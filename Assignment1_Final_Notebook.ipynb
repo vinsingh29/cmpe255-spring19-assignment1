{
  "nbformat": 4,
  "nbformat_minor": 0,
  "metadata": {
    "colab": {
      "name": "Assignment1-Chunk.ipynb",
      "version": "0.3.2",
      "provenance": []
    },
    "kernelspec": {
      "name": "python3",
      "display_name": "Python 3"
    },
    "accelerator": "GPU"
  },
  "cells": [
    {
      "metadata": {
        "id": "b5IAZc1cr1Sl",
        "colab_type": "text"
      },
      "cell_type": "markdown",
      "source": [
        "# Assignment 1 : Yelp Dataset Analysis \n",
        "\n",
        "# Imports required for analysis"
      ]
    },
    {
      "metadata": {
        "id": "MOdOAeBV53gl",
        "colab_type": "code",
        "colab": {}
      },
      "cell_type": "code",
      "source": [
        "import numpy as np\n",
        "#import nltk\n",
        "from sklearn.pipeline import Pipeline\n",
        "from sklearn.feature_extraction.text import CountVectorizer\n",
        "from sklearn.svm import LinearSVC\n",
        "from sklearn.feature_extraction.text import TfidfTransformer\n",
        "from sklearn.multiclass import OneVsRestClassifier\n",
        "from sklearn import preprocessing\n",
        "from sklearn.metrics import accuracy_score\n",
        "#from sklearn.cross_validation import train_test_split\n",
        "from sklearn.model_selection import train_test_split\n",
        "from sklearn.metrics import precision_recall_curve\n",
        "from sklearn.metrics import average_precision_score\n",
        "import matplotlib.pyplot as plt\n",
        "from nltk.corpus import stopwords\n",
        "from sklearn.feature_selection import SelectKBest, chi2\n",
        "from sklearn.linear_model import SGDClassifier\n",
        "from sklearn.linear_model import LogisticRegression\n",
        "from sklearn.linear_model import RidgeClassifier\n",
        "from sklearn.metrics import f1_score\n",
        "from sklearn.naive_bayes import MultinomialNB\n",
        "from sklearn.pipeline import make_pipeline\n",
        "import seaborn as sns\n",
        "import string\n",
        "import pandas as pd "
      ],
      "execution_count": 0,
      "outputs": []
    },
    {
      "metadata": {
        "id": "M2onCRm3sFWF",
        "colab_type": "text"
      },
      "cell_type": "markdown",
      "source": [
        "# **Mounting data set from Google Drive**"
      ]
    },
    {
      "metadata": {
        "id": "s9VsFQ_q59eY",
        "colab_type": "code",
        "outputId": "b257ed30-cb0a-4fea-fc2e-3bdd7a7681de",
        "colab": {
          "base_uri": "https://localhost:8080/",
          "height": 34
        }
      },
      "cell_type": "code",
      "source": [
        "from google.colab import drive\n",
        "drive.mount('/content/gdrive')\n",
        "\n"
      ],
      "execution_count": 3,
      "outputs": [
        {
          "output_type": "stream",
          "text": [
            "Drive already mounted at /content/gdrive; to attempt to forcibly remount, call drive.mount(\"/content/gdrive\", force_remount=True).\n"
          ],
          "name": "stdout"
        }
      ]
    },
    {
      "metadata": {
        "id": "xvn1rRw5sZSt",
        "colab_type": "text"
      },
      "cell_type": "markdown",
      "source": [
        "**Importing Business.csv to get businness Id's that are Restaurant**"
      ]
    },
    {
      "metadata": {
        "id": "U6N02eW0Fquu",
        "colab_type": "code",
        "colab": {}
      },
      "cell_type": "code",
      "source": [
        "business=pd.read_csv('gdrive/My Drive/255-yelp-assignment1/yelp_business.csv',iterator=True, chunksize=1000)\n",
        "\n",
        "df_business = pd.concat(business, ignore_index=True)"
      ],
      "execution_count": 0,
      "outputs": []
    },
    {
      "metadata": {
        "id": "SC94WpW7Ga-O",
        "colab_type": "code",
        "colab": {
          "base_uri": "https://localhost:8080/",
          "height": 34
        },
        "outputId": "8a658081-22ae-4842-92dd-bfbbe0faffb0"
      },
      "cell_type": "code",
      "source": [
        "business_dataframe = df_business[df_business['categories'].str.contains('Restaurants','Restaurant', na=False)]\n",
        "business_dataframe.shape"
      ],
      "execution_count": 17,
      "outputs": [
        {
          "output_type": "execute_result",
          "data": {
            "text/plain": [
              "(54618, 13)"
            ]
          },
          "metadata": {
            "tags": []
          },
          "execution_count": 17
        }
      ]
    },
    {
      "metadata": {
        "id": "WLmYK-02-lYE",
        "colab_type": "code",
        "colab": {
          "base_uri": "https://localhost:8080/",
          "height": 360
        },
        "outputId": "36b3bf91-95d8-4310-9f2c-79017181f5d3"
      },
      "cell_type": "code",
      "source": [
        "business_dataframe.head(5)"
      ],
      "execution_count": 19,
      "outputs": [
        {
          "output_type": "execute_result",
          "data": {
            "text/html": [
              "<div>\n",
              "<style scoped>\n",
              "    .dataframe tbody tr th:only-of-type {\n",
              "        vertical-align: middle;\n",
              "    }\n",
              "\n",
              "    .dataframe tbody tr th {\n",
              "        vertical-align: top;\n",
              "    }\n",
              "\n",
              "    .dataframe thead th {\n",
              "        text-align: right;\n",
              "    }\n",
              "</style>\n",
              "<table border=\"1\" class=\"dataframe\">\n",
              "  <thead>\n",
              "    <tr style=\"text-align: right;\">\n",
              "      <th></th>\n",
              "      <th>business_id</th>\n",
              "      <th>name</th>\n",
              "      <th>neighborhood</th>\n",
              "      <th>address</th>\n",
              "      <th>city</th>\n",
              "      <th>state</th>\n",
              "      <th>postal_code</th>\n",
              "      <th>latitude</th>\n",
              "      <th>longitude</th>\n",
              "      <th>stars</th>\n",
              "      <th>review_count</th>\n",
              "      <th>is_open</th>\n",
              "      <th>categories</th>\n",
              "    </tr>\n",
              "  </thead>\n",
              "  <tbody>\n",
              "    <tr>\n",
              "      <th>4</th>\n",
              "      <td>PfOCPjBrlQAnz__NXj9h_w</td>\n",
              "      <td>\"Brick House Tavern + Tap\"</td>\n",
              "      <td>NaN</td>\n",
              "      <td>\"581 Howe Ave\"</td>\n",
              "      <td>Cuyahoga Falls</td>\n",
              "      <td>OH</td>\n",
              "      <td>44221</td>\n",
              "      <td>41.119535</td>\n",
              "      <td>-81.475690</td>\n",
              "      <td>3.5</td>\n",
              "      <td>116</td>\n",
              "      <td>1</td>\n",
              "      <td>American (New);Nightlife;Bars;Sandwiches;Ameri...</td>\n",
              "    </tr>\n",
              "    <tr>\n",
              "      <th>5</th>\n",
              "      <td>o9eMRCWt5PkpLDE0gOPtcQ</td>\n",
              "      <td>\"Messina\"</td>\n",
              "      <td>NaN</td>\n",
              "      <td>\"Richterstr. 11\"</td>\n",
              "      <td>Stuttgart</td>\n",
              "      <td>BW</td>\n",
              "      <td>70567</td>\n",
              "      <td>48.727200</td>\n",
              "      <td>9.147950</td>\n",
              "      <td>4.0</td>\n",
              "      <td>5</td>\n",
              "      <td>1</td>\n",
              "      <td>Italian;Restaurants</td>\n",
              "    </tr>\n",
              "    <tr>\n",
              "      <th>10</th>\n",
              "      <td>XOSRcvtaKc_Q5H1SAzN20A</td>\n",
              "      <td>\"East Coast Coffee\"</td>\n",
              "      <td>NaN</td>\n",
              "      <td>\"737 West Pike St\"</td>\n",
              "      <td>Houston</td>\n",
              "      <td>PA</td>\n",
              "      <td>15342</td>\n",
              "      <td>40.241548</td>\n",
              "      <td>-80.212815</td>\n",
              "      <td>4.5</td>\n",
              "      <td>3</td>\n",
              "      <td>0</td>\n",
              "      <td>Breakfast &amp; Brunch;Gluten-Free;Coffee &amp; Tea;Fo...</td>\n",
              "    </tr>\n",
              "    <tr>\n",
              "      <th>14</th>\n",
              "      <td>fNMVV_ZX7CJSDWQGdOM8Nw</td>\n",
              "      <td>\"Showmars Government Center\"</td>\n",
              "      <td>Uptown</td>\n",
              "      <td>\"600 E 4th St\"</td>\n",
              "      <td>Charlotte</td>\n",
              "      <td>NC</td>\n",
              "      <td>28202</td>\n",
              "      <td>35.221647</td>\n",
              "      <td>-80.839345</td>\n",
              "      <td>3.5</td>\n",
              "      <td>7</td>\n",
              "      <td>1</td>\n",
              "      <td>Restaurants;American (Traditional)</td>\n",
              "    </tr>\n",
              "    <tr>\n",
              "      <th>15</th>\n",
              "      <td>l09JfMeQ6ynYs5MCJtrcmQ</td>\n",
              "      <td>\"Alize Catering\"</td>\n",
              "      <td>Yonge and Eglinton</td>\n",
              "      <td>\"2459 Yonge St\"</td>\n",
              "      <td>Toronto</td>\n",
              "      <td>ON</td>\n",
              "      <td>M4P 2H6</td>\n",
              "      <td>43.711399</td>\n",
              "      <td>-79.399339</td>\n",
              "      <td>3.0</td>\n",
              "      <td>12</td>\n",
              "      <td>0</td>\n",
              "      <td>Italian;French;Restaurants</td>\n",
              "    </tr>\n",
              "  </tbody>\n",
              "</table>\n",
              "</div>"
            ],
            "text/plain": [
              "               business_id                          name        neighborhood  \\\n",
              "4   PfOCPjBrlQAnz__NXj9h_w    \"Brick House Tavern + Tap\"                 NaN   \n",
              "5   o9eMRCWt5PkpLDE0gOPtcQ                     \"Messina\"                 NaN   \n",
              "10  XOSRcvtaKc_Q5H1SAzN20A           \"East Coast Coffee\"                 NaN   \n",
              "14  fNMVV_ZX7CJSDWQGdOM8Nw  \"Showmars Government Center\"              Uptown   \n",
              "15  l09JfMeQ6ynYs5MCJtrcmQ              \"Alize Catering\"  Yonge and Eglinton   \n",
              "\n",
              "               address            city state postal_code   latitude  \\\n",
              "4       \"581 Howe Ave\"  Cuyahoga Falls    OH       44221  41.119535   \n",
              "5     \"Richterstr. 11\"       Stuttgart    BW       70567  48.727200   \n",
              "10  \"737 West Pike St\"         Houston    PA       15342  40.241548   \n",
              "14      \"600 E 4th St\"       Charlotte    NC       28202  35.221647   \n",
              "15     \"2459 Yonge St\"         Toronto    ON     M4P 2H6  43.711399   \n",
              "\n",
              "    longitude  stars  review_count  is_open  \\\n",
              "4  -81.475690    3.5           116        1   \n",
              "5    9.147950    4.0             5        1   \n",
              "10 -80.212815    4.5             3        0   \n",
              "14 -80.839345    3.5             7        1   \n",
              "15 -79.399339    3.0            12        0   \n",
              "\n",
              "                                           categories  \n",
              "4   American (New);Nightlife;Bars;Sandwiches;Ameri...  \n",
              "5                                 Italian;Restaurants  \n",
              "10  Breakfast & Brunch;Gluten-Free;Coffee & Tea;Fo...  \n",
              "14                 Restaurants;American (Traditional)  \n",
              "15                         Italian;French;Restaurants  "
            ]
          },
          "metadata": {
            "tags": []
          },
          "execution_count": 19
        }
      ]
    },
    {
      "metadata": {
        "id": "dUVm0BHPspBr",
        "colab_type": "text"
      },
      "cell_type": "markdown",
      "source": [
        "**Removing unwanted column from business dataframe**"
      ]
    },
    {
      "metadata": {
        "id": "tG59no1hGHDh",
        "colab_type": "code",
        "colab": {}
      },
      "cell_type": "code",
      "source": [
        "df_restaurant = business_dataframe.drop(columns=['neighborhood','address','city','postal_code','latitude','longitude','stars','review_count','is_open'])\n",
        "\n",
        "\n",
        "\n",
        "\n",
        "#df_restaurant = df_business.loc[df_business['categories'].isin(['Restaurants','Restaurant','Food','Bars','Nightlife','Pubs','Salad','Food','Beer','Wine & Spirits','Restaurants','Mexican'])]"
      ],
      "execution_count": 0,
      "outputs": []
    },
    {
      "metadata": {
        "id": "9JAPHbr3-c4a",
        "colab_type": "code",
        "colab": {
          "base_uri": "https://localhost:8080/",
          "height": 204
        },
        "outputId": "e8e636ba-2127-4ef2-b9c8-afa2a839f191"
      },
      "cell_type": "code",
      "source": [
        "df_restaurant.head(5)"
      ],
      "execution_count": 58,
      "outputs": [
        {
          "output_type": "execute_result",
          "data": {
            "text/html": [
              "<div>\n",
              "<style scoped>\n",
              "    .dataframe tbody tr th:only-of-type {\n",
              "        vertical-align: middle;\n",
              "    }\n",
              "\n",
              "    .dataframe tbody tr th {\n",
              "        vertical-align: top;\n",
              "    }\n",
              "\n",
              "    .dataframe thead th {\n",
              "        text-align: right;\n",
              "    }\n",
              "</style>\n",
              "<table border=\"1\" class=\"dataframe\">\n",
              "  <thead>\n",
              "    <tr style=\"text-align: right;\">\n",
              "      <th></th>\n",
              "      <th>business_id</th>\n",
              "      <th>name</th>\n",
              "      <th>state</th>\n",
              "      <th>categories</th>\n",
              "    </tr>\n",
              "  </thead>\n",
              "  <tbody>\n",
              "    <tr>\n",
              "      <th>4</th>\n",
              "      <td>PfOCPjBrlQAnz__NXj9h_w</td>\n",
              "      <td>\"Brick House Tavern + Tap\"</td>\n",
              "      <td>OH</td>\n",
              "      <td>American (New);Nightlife;Bars;Sandwiches;Ameri...</td>\n",
              "    </tr>\n",
              "    <tr>\n",
              "      <th>5</th>\n",
              "      <td>o9eMRCWt5PkpLDE0gOPtcQ</td>\n",
              "      <td>\"Messina\"</td>\n",
              "      <td>BW</td>\n",
              "      <td>Italian;Restaurants</td>\n",
              "    </tr>\n",
              "    <tr>\n",
              "      <th>10</th>\n",
              "      <td>XOSRcvtaKc_Q5H1SAzN20A</td>\n",
              "      <td>\"East Coast Coffee\"</td>\n",
              "      <td>PA</td>\n",
              "      <td>Breakfast &amp; Brunch;Gluten-Free;Coffee &amp; Tea;Fo...</td>\n",
              "    </tr>\n",
              "    <tr>\n",
              "      <th>14</th>\n",
              "      <td>fNMVV_ZX7CJSDWQGdOM8Nw</td>\n",
              "      <td>\"Showmars Government Center\"</td>\n",
              "      <td>NC</td>\n",
              "      <td>Restaurants;American (Traditional)</td>\n",
              "    </tr>\n",
              "    <tr>\n",
              "      <th>15</th>\n",
              "      <td>l09JfMeQ6ynYs5MCJtrcmQ</td>\n",
              "      <td>\"Alize Catering\"</td>\n",
              "      <td>ON</td>\n",
              "      <td>Italian;French;Restaurants</td>\n",
              "    </tr>\n",
              "  </tbody>\n",
              "</table>\n",
              "</div>"
            ],
            "text/plain": [
              "               business_id                          name state  \\\n",
              "4   PfOCPjBrlQAnz__NXj9h_w    \"Brick House Tavern + Tap\"    OH   \n",
              "5   o9eMRCWt5PkpLDE0gOPtcQ                     \"Messina\"    BW   \n",
              "10  XOSRcvtaKc_Q5H1SAzN20A           \"East Coast Coffee\"    PA   \n",
              "14  fNMVV_ZX7CJSDWQGdOM8Nw  \"Showmars Government Center\"    NC   \n",
              "15  l09JfMeQ6ynYs5MCJtrcmQ              \"Alize Catering\"    ON   \n",
              "\n",
              "                                           categories  \n",
              "4   American (New);Nightlife;Bars;Sandwiches;Ameri...  \n",
              "5                                 Italian;Restaurants  \n",
              "10  Breakfast & Brunch;Gluten-Free;Coffee & Tea;Fo...  \n",
              "14                 Restaurants;American (Traditional)  \n",
              "15                         Italian;French;Restaurants  "
            ]
          },
          "metadata": {
            "tags": []
          },
          "execution_count": 58
        }
      ]
    },
    {
      "metadata": {
        "id": "51eaaU9sGSw4",
        "colab_type": "code",
        "colab": {
          "base_uri": "https://localhost:8080/",
          "height": 34
        },
        "outputId": "b9d01be8-fec1-40ec-f848-8be86f8b7d5e"
      },
      "cell_type": "code",
      "source": [
        "df_restaurant.shape"
      ],
      "execution_count": 61,
      "outputs": [
        {
          "output_type": "execute_result",
          "data": {
            "text/plain": [
              "(54618, 4)"
            ]
          },
          "metadata": {
            "tags": []
          },
          "execution_count": 61
        }
      ]
    },
    {
      "metadata": {
        "id": "4vYxW_HGs5r-",
        "colab_type": "text"
      },
      "cell_type": "markdown",
      "source": [
        "**Loading Reviews from entire Review.csv dataset**"
      ]
    },
    {
      "metadata": {
        "id": "TuU8ArRLC1sh",
        "colab_type": "code",
        "colab": {}
      },
      "cell_type": "code",
      "source": [
        "tp=pd.read_csv('gdrive/My Drive/255-yelp-assignment1/yelp_review.csv',iterator=True, chunksize=100000)\n",
        "\n",
        "df_review = pd.concat(tp, ignore_index=True)"
      ],
      "execution_count": 0,
      "outputs": []
    },
    {
      "metadata": {
        "id": "tL05sAxvtCKr",
        "colab_type": "text"
      },
      "cell_type": "markdown",
      "source": [
        "**Dropping unnecessary columns from the review data frame**"
      ]
    },
    {
      "metadata": {
        "id": "YYA-rNX_HZTC",
        "colab_type": "code",
        "colab": {}
      },
      "cell_type": "code",
      "source": [
        "df_review = df_review.drop(columns=['review_id', 'user_id','date','useful','funny','cool'])"
      ],
      "execution_count": 0,
      "outputs": []
    },
    {
      "metadata": {
        "id": "eZLJPfrJ681k",
        "colab_type": "code",
        "colab": {
          "base_uri": "https://localhost:8080/",
          "height": 204
        },
        "outputId": "69ad1f03-d3d4-4fff-ea53-d2d3984d583c"
      },
      "cell_type": "code",
      "source": [
        "df_review.head()"
      ],
      "execution_count": 63,
      "outputs": [
        {
          "output_type": "execute_result",
          "data": {
            "text/html": [
              "<div>\n",
              "<style scoped>\n",
              "    .dataframe tbody tr th:only-of-type {\n",
              "        vertical-align: middle;\n",
              "    }\n",
              "\n",
              "    .dataframe tbody tr th {\n",
              "        vertical-align: top;\n",
              "    }\n",
              "\n",
              "    .dataframe thead th {\n",
              "        text-align: right;\n",
              "    }\n",
              "</style>\n",
              "<table border=\"1\" class=\"dataframe\">\n",
              "  <thead>\n",
              "    <tr style=\"text-align: right;\">\n",
              "      <th></th>\n",
              "      <th>business_id</th>\n",
              "      <th>stars</th>\n",
              "      <th>text</th>\n",
              "    </tr>\n",
              "  </thead>\n",
              "  <tbody>\n",
              "    <tr>\n",
              "      <th>0</th>\n",
              "      <td>AEx2SYEUJmTxVVB18LlCwA</td>\n",
              "      <td>5</td>\n",
              "      <td>Super simple place but amazing nonetheless. It...</td>\n",
              "    </tr>\n",
              "    <tr>\n",
              "      <th>1</th>\n",
              "      <td>VR6GpWIda3SfvPC-lg9H3w</td>\n",
              "      <td>5</td>\n",
              "      <td>Small unassuming place that changes their menu...</td>\n",
              "    </tr>\n",
              "    <tr>\n",
              "      <th>2</th>\n",
              "      <td>CKC0-MOWMqoeWf6s-szl8g</td>\n",
              "      <td>5</td>\n",
              "      <td>Lester's is located in a beautiful neighborhoo...</td>\n",
              "    </tr>\n",
              "    <tr>\n",
              "      <th>3</th>\n",
              "      <td>ACFtxLv8pGrrxMm6EgjreA</td>\n",
              "      <td>4</td>\n",
              "      <td>Love coming here. Yes the place always needs t...</td>\n",
              "    </tr>\n",
              "    <tr>\n",
              "      <th>4</th>\n",
              "      <td>s2I_Ni76bjJNK9yG60iD-Q</td>\n",
              "      <td>4</td>\n",
              "      <td>Had their chocolate almond croissant and it wa...</td>\n",
              "    </tr>\n",
              "  </tbody>\n",
              "</table>\n",
              "</div>"
            ],
            "text/plain": [
              "              business_id  stars  \\\n",
              "0  AEx2SYEUJmTxVVB18LlCwA      5   \n",
              "1  VR6GpWIda3SfvPC-lg9H3w      5   \n",
              "2  CKC0-MOWMqoeWf6s-szl8g      5   \n",
              "3  ACFtxLv8pGrrxMm6EgjreA      4   \n",
              "4  s2I_Ni76bjJNK9yG60iD-Q      4   \n",
              "\n",
              "                                                text  \n",
              "0  Super simple place but amazing nonetheless. It...  \n",
              "1  Small unassuming place that changes their menu...  \n",
              "2  Lester's is located in a beautiful neighborhoo...  \n",
              "3  Love coming here. Yes the place always needs t...  \n",
              "4  Had their chocolate almond croissant and it wa...  "
            ]
          },
          "metadata": {
            "tags": []
          },
          "execution_count": 63
        }
      ]
    },
    {
      "metadata": {
        "id": "YmYQp8IatJhw",
        "colab_type": "text"
      },
      "cell_type": "markdown",
      "source": [
        "**Merging review data frame and restaurant data frame based on Business_ID that are restaurant**"
      ]
    },
    {
      "metadata": {
        "id": "B7YcWftMGrBp",
        "colab_type": "code",
        "colab": {}
      },
      "cell_type": "code",
      "source": [
        "df = pd.merge(df_restaurant, df_review, on = 'business_id') #Merging restaurants with review as per business id"
      ],
      "execution_count": 0,
      "outputs": []
    },
    {
      "metadata": {
        "id": "Cm50kERcA_Ls",
        "colab_type": "code",
        "colab": {
          "base_uri": "https://localhost:8080/",
          "height": 204
        },
        "outputId": "5a168dda-faff-472a-a198-862633929c15"
      },
      "cell_type": "code",
      "source": [
        "df.head()"
      ],
      "execution_count": 65,
      "outputs": [
        {
          "output_type": "execute_result",
          "data": {
            "text/html": [
              "<div>\n",
              "<style scoped>\n",
              "    .dataframe tbody tr th:only-of-type {\n",
              "        vertical-align: middle;\n",
              "    }\n",
              "\n",
              "    .dataframe tbody tr th {\n",
              "        vertical-align: top;\n",
              "    }\n",
              "\n",
              "    .dataframe thead th {\n",
              "        text-align: right;\n",
              "    }\n",
              "</style>\n",
              "<table border=\"1\" class=\"dataframe\">\n",
              "  <thead>\n",
              "    <tr style=\"text-align: right;\">\n",
              "      <th></th>\n",
              "      <th>business_id</th>\n",
              "      <th>name</th>\n",
              "      <th>state</th>\n",
              "      <th>categories</th>\n",
              "      <th>stars</th>\n",
              "      <th>text</th>\n",
              "    </tr>\n",
              "  </thead>\n",
              "  <tbody>\n",
              "    <tr>\n",
              "      <th>0</th>\n",
              "      <td>PfOCPjBrlQAnz__NXj9h_w</td>\n",
              "      <td>\"Brick House Tavern + Tap\"</td>\n",
              "      <td>OH</td>\n",
              "      <td>American (New);Nightlife;Bars;Sandwiches;Ameri...</td>\n",
              "      <td>4</td>\n",
              "      <td>I've always enjoyed my time at brick house foo...</td>\n",
              "    </tr>\n",
              "    <tr>\n",
              "      <th>1</th>\n",
              "      <td>PfOCPjBrlQAnz__NXj9h_w</td>\n",
              "      <td>\"Brick House Tavern + Tap\"</td>\n",
              "      <td>OH</td>\n",
              "      <td>American (New);Nightlife;Bars;Sandwiches;Ameri...</td>\n",
              "      <td>2</td>\n",
              "      <td>1st time here. Came w my Unc bc Louies was clo...</td>\n",
              "    </tr>\n",
              "    <tr>\n",
              "      <th>2</th>\n",
              "      <td>PfOCPjBrlQAnz__NXj9h_w</td>\n",
              "      <td>\"Brick House Tavern + Tap\"</td>\n",
              "      <td>OH</td>\n",
              "      <td>American (New);Nightlife;Bars;Sandwiches;Ameri...</td>\n",
              "      <td>1</td>\n",
              "      <td>Worse service ever andI use to be a server so ...</td>\n",
              "    </tr>\n",
              "    <tr>\n",
              "      <th>3</th>\n",
              "      <td>PfOCPjBrlQAnz__NXj9h_w</td>\n",
              "      <td>\"Brick House Tavern + Tap\"</td>\n",
              "      <td>OH</td>\n",
              "      <td>American (New);Nightlife;Bars;Sandwiches;Ameri...</td>\n",
              "      <td>5</td>\n",
              "      <td>I am updating my review to 5-stars because I t...</td>\n",
              "    </tr>\n",
              "    <tr>\n",
              "      <th>4</th>\n",
              "      <td>PfOCPjBrlQAnz__NXj9h_w</td>\n",
              "      <td>\"Brick House Tavern + Tap\"</td>\n",
              "      <td>OH</td>\n",
              "      <td>American (New);Nightlife;Bars;Sandwiches;Ameri...</td>\n",
              "      <td>4</td>\n",
              "      <td>I enjoyed this place.  I went the night the Bu...</td>\n",
              "    </tr>\n",
              "  </tbody>\n",
              "</table>\n",
              "</div>"
            ],
            "text/plain": [
              "              business_id                        name state  \\\n",
              "0  PfOCPjBrlQAnz__NXj9h_w  \"Brick House Tavern + Tap\"    OH   \n",
              "1  PfOCPjBrlQAnz__NXj9h_w  \"Brick House Tavern + Tap\"    OH   \n",
              "2  PfOCPjBrlQAnz__NXj9h_w  \"Brick House Tavern + Tap\"    OH   \n",
              "3  PfOCPjBrlQAnz__NXj9h_w  \"Brick House Tavern + Tap\"    OH   \n",
              "4  PfOCPjBrlQAnz__NXj9h_w  \"Brick House Tavern + Tap\"    OH   \n",
              "\n",
              "                                          categories  stars  \\\n",
              "0  American (New);Nightlife;Bars;Sandwiches;Ameri...      4   \n",
              "1  American (New);Nightlife;Bars;Sandwiches;Ameri...      2   \n",
              "2  American (New);Nightlife;Bars;Sandwiches;Ameri...      1   \n",
              "3  American (New);Nightlife;Bars;Sandwiches;Ameri...      5   \n",
              "4  American (New);Nightlife;Bars;Sandwiches;Ameri...      4   \n",
              "\n",
              "                                                text  \n",
              "0  I've always enjoyed my time at brick house foo...  \n",
              "1  1st time here. Came w my Unc bc Louies was clo...  \n",
              "2  Worse service ever andI use to be a server so ...  \n",
              "3  I am updating my review to 5-stars because I t...  \n",
              "4  I enjoyed this place.  I went the night the Bu...  "
            ]
          },
          "metadata": {
            "tags": []
          },
          "execution_count": 65
        }
      ]
    },
    {
      "metadata": {
        "id": "aFHFG3kWIdTy",
        "colab_type": "code",
        "outputId": "15e2169a-84b3-41e8-abb2-9d52e31d7dc9",
        "colab": {
          "base_uri": "https://localhost:8080/",
          "height": 34
        }
      },
      "cell_type": "code",
      "source": [
        "df.shape"
      ],
      "execution_count": 66,
      "outputs": [
        {
          "output_type": "execute_result",
          "data": {
            "text/plain": [
              "(3221418, 6)"
            ]
          },
          "metadata": {
            "tags": []
          },
          "execution_count": 66
        }
      ]
    },
    {
      "metadata": {
        "id": "toBEPY4LdTvv",
        "colab_type": "code",
        "colab": {
          "base_uri": "https://localhost:8080/",
          "height": 204
        },
        "outputId": "7309f05f-17e1-4b7e-9224-f20ce74aecf1"
      },
      "cell_type": "code",
      "source": [
        "df.head()"
      ],
      "execution_count": 67,
      "outputs": [
        {
          "output_type": "execute_result",
          "data": {
            "text/html": [
              "<div>\n",
              "<style scoped>\n",
              "    .dataframe tbody tr th:only-of-type {\n",
              "        vertical-align: middle;\n",
              "    }\n",
              "\n",
              "    .dataframe tbody tr th {\n",
              "        vertical-align: top;\n",
              "    }\n",
              "\n",
              "    .dataframe thead th {\n",
              "        text-align: right;\n",
              "    }\n",
              "</style>\n",
              "<table border=\"1\" class=\"dataframe\">\n",
              "  <thead>\n",
              "    <tr style=\"text-align: right;\">\n",
              "      <th></th>\n",
              "      <th>business_id</th>\n",
              "      <th>name</th>\n",
              "      <th>state</th>\n",
              "      <th>categories</th>\n",
              "      <th>stars</th>\n",
              "      <th>text</th>\n",
              "    </tr>\n",
              "  </thead>\n",
              "  <tbody>\n",
              "    <tr>\n",
              "      <th>0</th>\n",
              "      <td>PfOCPjBrlQAnz__NXj9h_w</td>\n",
              "      <td>\"Brick House Tavern + Tap\"</td>\n",
              "      <td>OH</td>\n",
              "      <td>American (New);Nightlife;Bars;Sandwiches;Ameri...</td>\n",
              "      <td>4</td>\n",
              "      <td>I've always enjoyed my time at brick house foo...</td>\n",
              "    </tr>\n",
              "    <tr>\n",
              "      <th>1</th>\n",
              "      <td>PfOCPjBrlQAnz__NXj9h_w</td>\n",
              "      <td>\"Brick House Tavern + Tap\"</td>\n",
              "      <td>OH</td>\n",
              "      <td>American (New);Nightlife;Bars;Sandwiches;Ameri...</td>\n",
              "      <td>2</td>\n",
              "      <td>1st time here. Came w my Unc bc Louies was clo...</td>\n",
              "    </tr>\n",
              "    <tr>\n",
              "      <th>2</th>\n",
              "      <td>PfOCPjBrlQAnz__NXj9h_w</td>\n",
              "      <td>\"Brick House Tavern + Tap\"</td>\n",
              "      <td>OH</td>\n",
              "      <td>American (New);Nightlife;Bars;Sandwiches;Ameri...</td>\n",
              "      <td>1</td>\n",
              "      <td>Worse service ever andI use to be a server so ...</td>\n",
              "    </tr>\n",
              "    <tr>\n",
              "      <th>3</th>\n",
              "      <td>PfOCPjBrlQAnz__NXj9h_w</td>\n",
              "      <td>\"Brick House Tavern + Tap\"</td>\n",
              "      <td>OH</td>\n",
              "      <td>American (New);Nightlife;Bars;Sandwiches;Ameri...</td>\n",
              "      <td>5</td>\n",
              "      <td>I am updating my review to 5-stars because I t...</td>\n",
              "    </tr>\n",
              "    <tr>\n",
              "      <th>4</th>\n",
              "      <td>PfOCPjBrlQAnz__NXj9h_w</td>\n",
              "      <td>\"Brick House Tavern + Tap\"</td>\n",
              "      <td>OH</td>\n",
              "      <td>American (New);Nightlife;Bars;Sandwiches;Ameri...</td>\n",
              "      <td>4</td>\n",
              "      <td>I enjoyed this place.  I went the night the Bu...</td>\n",
              "    </tr>\n",
              "  </tbody>\n",
              "</table>\n",
              "</div>"
            ],
            "text/plain": [
              "              business_id                        name state  \\\n",
              "0  PfOCPjBrlQAnz__NXj9h_w  \"Brick House Tavern + Tap\"    OH   \n",
              "1  PfOCPjBrlQAnz__NXj9h_w  \"Brick House Tavern + Tap\"    OH   \n",
              "2  PfOCPjBrlQAnz__NXj9h_w  \"Brick House Tavern + Tap\"    OH   \n",
              "3  PfOCPjBrlQAnz__NXj9h_w  \"Brick House Tavern + Tap\"    OH   \n",
              "4  PfOCPjBrlQAnz__NXj9h_w  \"Brick House Tavern + Tap\"    OH   \n",
              "\n",
              "                                          categories  stars  \\\n",
              "0  American (New);Nightlife;Bars;Sandwiches;Ameri...      4   \n",
              "1  American (New);Nightlife;Bars;Sandwiches;Ameri...      2   \n",
              "2  American (New);Nightlife;Bars;Sandwiches;Ameri...      1   \n",
              "3  American (New);Nightlife;Bars;Sandwiches;Ameri...      5   \n",
              "4  American (New);Nightlife;Bars;Sandwiches;Ameri...      4   \n",
              "\n",
              "                                                text  \n",
              "0  I've always enjoyed my time at brick house foo...  \n",
              "1  1st time here. Came w my Unc bc Louies was clo...  \n",
              "2  Worse service ever andI use to be a server so ...  \n",
              "3  I am updating my review to 5-stars because I t...  \n",
              "4  I enjoyed this place.  I went the night the Bu...  "
            ]
          },
          "metadata": {
            "tags": []
          },
          "execution_count": 67
        }
      ]
    },
    {
      "metadata": {
        "id": "XYAM-ytotY3o",
        "colab_type": "text"
      },
      "cell_type": "markdown",
      "source": [
        "**Shuffling the data frame and picking up 20% of the data for further processing**\n",
        "\n",
        "Reason to shuffle and select 20% data is due to limited processing and computing speed\n"
      ]
    },
    {
      "metadata": {
        "id": "N3lPszdge011",
        "colab_type": "code",
        "colab": {}
      },
      "cell_type": "code",
      "source": [
        "#Shuffle DF to get random data set and select 20% of data out of 30,00,000 review. All this reviews are for business id that are restaurant\n",
        "#Reason to shuffle and select 20% is because I am unable to process all the reviews giving the computing speed\n",
        "\n",
        "from sklearn.utils import shuffle\n",
        "df_shuffle = shuffle(df)\n",
        "df_percent = df_shuffle.sample(frac=0.2)\n",
        "df = df_percent"
      ],
      "execution_count": 0,
      "outputs": []
    },
    {
      "metadata": {
        "id": "_4NFqAkxe6kd",
        "colab_type": "code",
        "colab": {
          "base_uri": "https://localhost:8080/",
          "height": 34
        },
        "outputId": "7bf120eb-df30-4c7f-ed0d-5b43b88dc652"
      },
      "cell_type": "code",
      "source": [
        "df.shape"
      ],
      "execution_count": 70,
      "outputs": [
        {
          "output_type": "execute_result",
          "data": {
            "text/plain": [
              "(644284, 6)"
            ]
          },
          "metadata": {
            "tags": []
          },
          "execution_count": 70
        }
      ]
    },
    {
      "metadata": {
        "id": "KTJBYu_gtuLN",
        "colab_type": "text"
      },
      "cell_type": "markdown",
      "source": [
        "**Data Preprocessing : Convert Review Text to lower case and removing punctuation**"
      ]
    },
    {
      "metadata": {
        "id": "gRVNVOj9H1sM",
        "colab_type": "code",
        "colab": {}
      },
      "cell_type": "code",
      "source": [
        "## convert text to lower case\n",
        "df.text = df.text.str.lower()\n",
        "## remove unnecessary punctuation\n",
        "df['removed_punct_text']= df.text.str.replace('\\n',''). \\\n",
        "                                          str.replace('[!\"#$%&\\()*+,-./:;<=>?@[\\\\]^_`{|}~]','')\n"
      ],
      "execution_count": 0,
      "outputs": []
    },
    {
      "metadata": {
        "id": "BlZF60h7p_fu",
        "colab_type": "code",
        "colab": {
          "base_uri": "https://localhost:8080/",
          "height": 3023
        },
        "outputId": "80aa18d7-22ea-479d-86d3-4b264bd38a8f"
      },
      "cell_type": "code",
      "source": [
        "df.head(100)"
      ],
      "execution_count": 72,
      "outputs": [
        {
          "output_type": "execute_result",
          "data": {
            "text/html": [
              "<div>\n",
              "<style scoped>\n",
              "    .dataframe tbody tr th:only-of-type {\n",
              "        vertical-align: middle;\n",
              "    }\n",
              "\n",
              "    .dataframe tbody tr th {\n",
              "        vertical-align: top;\n",
              "    }\n",
              "\n",
              "    .dataframe thead th {\n",
              "        text-align: right;\n",
              "    }\n",
              "</style>\n",
              "<table border=\"1\" class=\"dataframe\">\n",
              "  <thead>\n",
              "    <tr style=\"text-align: right;\">\n",
              "      <th></th>\n",
              "      <th>business_id</th>\n",
              "      <th>name</th>\n",
              "      <th>state</th>\n",
              "      <th>categories</th>\n",
              "      <th>stars</th>\n",
              "      <th>text</th>\n",
              "      <th>removed_punct_text</th>\n",
              "    </tr>\n",
              "  </thead>\n",
              "  <tbody>\n",
              "    <tr>\n",
              "      <th>1053174</th>\n",
              "      <td>WCFz9KVJTtIXSVvD5NMYoQ</td>\n",
              "      <td>\"Chart House\"</td>\n",
              "      <td>NV</td>\n",
              "      <td>Seafood;Event Planning &amp; Services;American (Tr...</td>\n",
              "      <td>4</td>\n",
              "      <td>we made reservations to chart house on my birt...</td>\n",
              "      <td>we made reservations to chart house on my birt...</td>\n",
              "    </tr>\n",
              "    <tr>\n",
              "      <th>693097</th>\n",
              "      <td>-PKUAor_Nz_IaNjP_jIwyA</td>\n",
              "      <td>\"Playa Cabana - Hacienda\"</td>\n",
              "      <td>ON</td>\n",
              "      <td>Restaurants;Mexican</td>\n",
              "      <td>3</td>\n",
              "      <td>food was delicious- guac, the corn and the tac...</td>\n",
              "      <td>food was delicious guac the corn and the tacos...</td>\n",
              "    </tr>\n",
              "    <tr>\n",
              "      <th>1043630</th>\n",
              "      <td>2cib4FSxfh8OxRf9wX5RzQ</td>\n",
              "      <td>\"The Chocolate Moose\"</td>\n",
              "      <td>NV</td>\n",
              "      <td>Desserts;Cafes;Ice Cream &amp; Frozen Yogurt;Food;...</td>\n",
              "      <td>5</td>\n",
              "      <td>the most absolute awesome little eatery i've b...</td>\n",
              "      <td>the most absolute awesome little eatery i've b...</td>\n",
              "    </tr>\n",
              "    <tr>\n",
              "      <th>1840562</th>\n",
              "      <td>LgroNa-JH5W-wpJACXuz5A</td>\n",
              "      <td>\"Akita Sushi\"</td>\n",
              "      <td>AZ</td>\n",
              "      <td>Restaurants;Sushi Bars</td>\n",
              "      <td>5</td>\n",
              "      <td>i can't praise akita sushi enough. the locatio...</td>\n",
              "      <td>i can't praise akita sushi enough the location...</td>\n",
              "    </tr>\n",
              "    <tr>\n",
              "      <th>2680949</th>\n",
              "      <td>klls1rEfABAUtO8J0YXSGQ</td>\n",
              "      <td>\"Aladdin's Eatery\"</td>\n",
              "      <td>PA</td>\n",
              "      <td>Soup;Food;Mediterranean;Vegetarian;Juice Bars ...</td>\n",
              "      <td>4</td>\n",
              "      <td>this is one of the few chain restaurants i enj...</td>\n",
              "      <td>this is one of the few chain restaurants i enj...</td>\n",
              "    </tr>\n",
              "    <tr>\n",
              "      <th>2339070</th>\n",
              "      <td>1qwkbN3wu3AGDxMTXVz2gA</td>\n",
              "      <td>\"Topgolf\"</td>\n",
              "      <td>AZ</td>\n",
              "      <td>Sports Bars;Bars;Active Life;Restaurants;Night...</td>\n",
              "      <td>4</td>\n",
              "      <td>we went to the location in gilbert. super fun ...</td>\n",
              "      <td>we went to the location in gilbert super fun a...</td>\n",
              "    </tr>\n",
              "    <tr>\n",
              "      <th>1824003</th>\n",
              "      <td>VqT-IURXmVS_fVRLTKxTFQ</td>\n",
              "      <td>\"Cacao 70\"</td>\n",
              "      <td>QC</td>\n",
              "      <td>Chocolatiers &amp; Shops;Breakfast &amp; Brunch;Desser...</td>\n",
              "      <td>5</td>\n",
              "      <td>i visited cacao 70 again tonight, and was agai...</td>\n",
              "      <td>i visited cacao 70 again tonight and was again...</td>\n",
              "    </tr>\n",
              "    <tr>\n",
              "      <th>2132370</th>\n",
              "      <td>l_GV0hgEoTUf70uJVT0_hg</td>\n",
              "      <td>\"Eat.\"</td>\n",
              "      <td>NV</td>\n",
              "      <td>Restaurants;American (New);Sandwiches;Breakfas...</td>\n",
              "      <td>4</td>\n",
              "      <td>went here new year's day for breakfast with a ...</td>\n",
              "      <td>went here new year's day for breakfast with a ...</td>\n",
              "    </tr>\n",
              "    <tr>\n",
              "      <th>430283</th>\n",
              "      <td>Vs7gc9EE3k9wARuUcN9piA</td>\n",
              "      <td>\"Pan Asian\"</td>\n",
              "      <td>NV</td>\n",
              "      <td>Japanese;Restaurants;Thai;Chinese</td>\n",
              "      <td>5</td>\n",
              "      <td>awesome food, great spirit ,owners friendly ,s...</td>\n",
              "      <td>awesome food great spirit owners friendly sata...</td>\n",
              "    </tr>\n",
              "    <tr>\n",
              "      <th>3123035</th>\n",
              "      <td>JyxHvtj-syke7m9rbza7mA</td>\n",
              "      <td>\"Sushi House Goyemon\"</td>\n",
              "      <td>NV</td>\n",
              "      <td>Sushi Bars;Japanese;Restaurants</td>\n",
              "      <td>5</td>\n",
              "      <td>sushi house goyemon is the best all-you-can-ea...</td>\n",
              "      <td>sushi house goyemon is the best allyoucaneat a...</td>\n",
              "    </tr>\n",
              "    <tr>\n",
              "      <th>1287562</th>\n",
              "      <td>DX88zzF2uG63hDZavRDJDQ</td>\n",
              "      <td>\"Ground Burger Bar\"</td>\n",
              "      <td>ON</td>\n",
              "      <td>Food;Burgers;Beer;Wine &amp; Spirits;Restaurants</td>\n",
              "      <td>5</td>\n",
              "      <td>this place is frigin awesome!  i mean - probab...</td>\n",
              "      <td>this place is frigin awesome  i mean  probably...</td>\n",
              "    </tr>\n",
              "    <tr>\n",
              "      <th>3072024</th>\n",
              "      <td>jZZ2GSXKvaSbHJj4rTzn0A</td>\n",
              "      <td>\"Toyama Express\"</td>\n",
              "      <td>NC</td>\n",
              "      <td>Restaurants;Japanese</td>\n",
              "      <td>4</td>\n",
              "      <td>i am dismayed at people giving this place low ...</td>\n",
              "      <td>i am dismayed at people giving this place low ...</td>\n",
              "    </tr>\n",
              "    <tr>\n",
              "      <th>469553</th>\n",
              "      <td>iCQpiavjjPzJ5_3gPD5Ebg</td>\n",
              "      <td>\"Secret Pizza\"</td>\n",
              "      <td>NV</td>\n",
              "      <td>Pizza;Restaurants</td>\n",
              "      <td>1</td>\n",
              "      <td>ordered a whole deluxe pie, had a conversation...</td>\n",
              "      <td>ordered a whole deluxe pie had a conversation ...</td>\n",
              "    </tr>\n",
              "    <tr>\n",
              "      <th>1476404</th>\n",
              "      <td>NcZYVjg1gqDONZW6MTVA2Q</td>\n",
              "      <td>\"La Grand-Mère Poule\"</td>\n",
              "      <td>QC</td>\n",
              "      <td>Breakfast &amp; Brunch;Restaurants</td>\n",
              "      <td>3</td>\n",
              "      <td>place à déjeuner classique le café est en extr...</td>\n",
              "      <td>place à déjeuner classique le café est en extr...</td>\n",
              "    </tr>\n",
              "    <tr>\n",
              "      <th>1560230</th>\n",
              "      <td>gpaseUoOfgPRzfekQVN6Vw</td>\n",
              "      <td>\"Mario's\"</td>\n",
              "      <td>OH</td>\n",
              "      <td>Restaurants;Bars;American (New);Nightlife</td>\n",
              "      <td>3</td>\n",
              "      <td>finally tried this place allowing time to work...</td>\n",
              "      <td>finally tried this place allowing time to work...</td>\n",
              "    </tr>\n",
              "    <tr>\n",
              "      <th>116458</th>\n",
              "      <td>5OZS7Sz7oX6XBL7KZE0G1Q</td>\n",
              "      <td>\"Jasmine Thai Cuisine\"</td>\n",
              "      <td>AZ</td>\n",
              "      <td>Thai;Restaurants</td>\n",
              "      <td>4</td>\n",
              "      <td>duck noodle soup is amazing.  very high qualit...</td>\n",
              "      <td>duck noodle soup is amazing  very high quality...</td>\n",
              "    </tr>\n",
              "    <tr>\n",
              "      <th>528884</th>\n",
              "      <td>0d0i0FaJq1GIeW1rS2D-5w</td>\n",
              "      <td>\"Bruxie\"</td>\n",
              "      <td>NV</td>\n",
              "      <td>Breakfast &amp; Brunch;Food;Desserts;Restaurants;W...</td>\n",
              "      <td>5</td>\n",
              "      <td>i ordered the nashville sandwich that was supe...</td>\n",
              "      <td>i ordered the nashville sandwich that was supe...</td>\n",
              "    </tr>\n",
              "    <tr>\n",
              "      <th>1001686</th>\n",
              "      <td>VvXI3pyUFl1MAimZsX5RrA</td>\n",
              "      <td>\"Lorenzo's Pizzeria\"</td>\n",
              "      <td>NC</td>\n",
              "      <td>Pizza;Restaurants;Italian</td>\n",
              "      <td>5</td>\n",
              "      <td>freaking delicious pizza! the slices are huge ...</td>\n",
              "      <td>freaking delicious pizza the slices are huge a...</td>\n",
              "    </tr>\n",
              "    <tr>\n",
              "      <th>603513</th>\n",
              "      <td>1gQrMs-I8oKg2p-iRxznzQ</td>\n",
              "      <td>\"Soho Chicken + Whiskey\"</td>\n",
              "      <td>OH</td>\n",
              "      <td>Nightlife;Southern;Breakfast &amp; Brunch;Restaura...</td>\n",
              "      <td>4</td>\n",
              "      <td>per usual, some friends and i were hungover an...</td>\n",
              "      <td>per usual some friends and i were hungover and...</td>\n",
              "    </tr>\n",
              "    <tr>\n",
              "      <th>1155735</th>\n",
              "      <td>Y-S2LhHefBdnX8VP5Bh_JA</td>\n",
              "      <td>\"Citizens Kitchen and Bar\"</td>\n",
              "      <td>NV</td>\n",
              "      <td>Comfort Food;Restaurants;Steakhouses;American ...</td>\n",
              "      <td>1</td>\n",
              "      <td>i love this restaurant and especially their wo...</td>\n",
              "      <td>i love this restaurant and especially their wo...</td>\n",
              "    </tr>\n",
              "    <tr>\n",
              "      <th>1247966</th>\n",
              "      <td>EZ9Uf-lSRtj1fvdMQlrwAw</td>\n",
              "      <td>\"Thai Me Up\"</td>\n",
              "      <td>PA</td>\n",
              "      <td>Restaurants;Thai</td>\n",
              "      <td>3</td>\n",
              "      <td>how can i not review the place that bears the ...</td>\n",
              "      <td>how can i not review the place that bears the ...</td>\n",
              "    </tr>\n",
              "    <tr>\n",
              "      <th>167100</th>\n",
              "      <td>jRxLnJ9my31Re_O2MvQGhw</td>\n",
              "      <td>\"The Tasty Bowl Subs N Such\"</td>\n",
              "      <td>NC</td>\n",
              "      <td>Restaurants;Fast Food;Caribbean;Mexican;Thai;I...</td>\n",
              "      <td>5</td>\n",
              "      <td>i love this place! the food is great and the s...</td>\n",
              "      <td>i love this place the food is great and the st...</td>\n",
              "    </tr>\n",
              "    <tr>\n",
              "      <th>1732208</th>\n",
              "      <td>gk7k2VCfKuqGuCLOJ-YU9g</td>\n",
              "      <td>\"Maïko Sushi\"</td>\n",
              "      <td>QC</td>\n",
              "      <td>Restaurants;Sushi Bars;Japanese</td>\n",
              "      <td>1</td>\n",
              "      <td>no seriously. this is not sushi, this is some ...</td>\n",
              "      <td>no seriously this is not sushi this is some so...</td>\n",
              "    </tr>\n",
              "    <tr>\n",
              "      <th>1582175</th>\n",
              "      <td>g8oxQ1Ji9mr9PMjhEfaWSg</td>\n",
              "      <td>\"Dick's Last Resort\"</td>\n",
              "      <td>NV</td>\n",
              "      <td>Nightlife;Beer;Wine &amp; Spirits;Restaurants;Bars...</td>\n",
              "      <td>5</td>\n",
              "      <td>had alot of fun would do it again and ribs wer...</td>\n",
              "      <td>had alot of fun would do it again and ribs wer...</td>\n",
              "    </tr>\n",
              "    <tr>\n",
              "      <th>2570045</th>\n",
              "      <td>webM3oChwDCkzZEmjrSeHQ</td>\n",
              "      <td>\"The Croissant Tree\"</td>\n",
              "      <td>ON</td>\n",
              "      <td>Event Planning &amp; Services;Food;Restaurants;Cat...</td>\n",
              "      <td>3</td>\n",
              "      <td>open rafters, free wifi, all day breakfast.......</td>\n",
              "      <td>open rafters free wifi all day breakfastif i w...</td>\n",
              "    </tr>\n",
              "    <tr>\n",
              "      <th>2596637</th>\n",
              "      <td>BgQ5ob0QiZfO5YbgI7VyFw</td>\n",
              "      <td>\"Blue Adobe Grille\"</td>\n",
              "      <td>AZ</td>\n",
              "      <td>Restaurants;Bars;Nightlife;Mexican</td>\n",
              "      <td>4</td>\n",
              "      <td>cut to the chase: we were lucky and came early...</td>\n",
              "      <td>cut to the chase we were lucky and came early ...</td>\n",
              "    </tr>\n",
              "    <tr>\n",
              "      <th>2452117</th>\n",
              "      <td>cKgUCzMGuRgkbKXUsgeXUw</td>\n",
              "      <td>\"Barrio Queen\"</td>\n",
              "      <td>AZ</td>\n",
              "      <td>Mexican;Restaurants</td>\n",
              "      <td>5</td>\n",
              "      <td>hands down my favorite restaurant. i would eat...</td>\n",
              "      <td>hands down my favorite restaurant i would eat ...</td>\n",
              "    </tr>\n",
              "    <tr>\n",
              "      <th>2568546</th>\n",
              "      <td>7sb2FYLS2sejZKxRYF9mtg</td>\n",
              "      <td>\"Sakana\"</td>\n",
              "      <td>NV</td>\n",
              "      <td>Sushi Bars;Japanese;Buffets;Restaurants</td>\n",
              "      <td>5</td>\n",
              "      <td>good food, great service..visiting las vegas a...</td>\n",
              "      <td>good food great servicevisiting las vegas and ...</td>\n",
              "    </tr>\n",
              "    <tr>\n",
              "      <th>2480559</th>\n",
              "      <td>Chr3YCuvt2mD-BHgqeo-OA</td>\n",
              "      <td>\"Chicken Latino\"</td>\n",
              "      <td>PA</td>\n",
              "      <td>Peruvian;Restaurants;Latin American</td>\n",
              "      <td>2</td>\n",
              "      <td>i wasn't impressed with the menu. only one ite...</td>\n",
              "      <td>i wasn't impressed with the menu only one item...</td>\n",
              "    </tr>\n",
              "    <tr>\n",
              "      <th>2544656</th>\n",
              "      <td>b-0q4xbL6EWYUqnwqcYM4Q</td>\n",
              "      <td>\"Monterrey Mexican Restaurant\"</td>\n",
              "      <td>NC</td>\n",
              "      <td>Restaurants;Mexican</td>\n",
              "      <td>2</td>\n",
              "      <td>service is decent but food is highly overprice...</td>\n",
              "      <td>service is decent but food is highly overprice...</td>\n",
              "    </tr>\n",
              "    <tr>\n",
              "      <th>...</th>\n",
              "      <td>...</td>\n",
              "      <td>...</td>\n",
              "      <td>...</td>\n",
              "      <td>...</td>\n",
              "      <td>...</td>\n",
              "      <td>...</td>\n",
              "      <td>...</td>\n",
              "    </tr>\n",
              "    <tr>\n",
              "      <th>665194</th>\n",
              "      <td>2lF1UsGcDpDpaI1lXgRX_g</td>\n",
              "      <td>\"Abuelo's\"</td>\n",
              "      <td>AZ</td>\n",
              "      <td>Mexican;Tex-Mex;Restaurants</td>\n",
              "      <td>3</td>\n",
              "      <td>this place as just ok... i expected far too mu...</td>\n",
              "      <td>this place as just ok i expected far too much ...</td>\n",
              "    </tr>\n",
              "    <tr>\n",
              "      <th>1597047</th>\n",
              "      <td>qB0WAMveyK2-3itLPOiqVw</td>\n",
              "      <td>\"Las Pupusas Restaurant\"</td>\n",
              "      <td>NV</td>\n",
              "      <td>Latin American;Restaurants;Mexican</td>\n",
              "      <td>5</td>\n",
              "      <td>delicious food, great service and an amazing e...</td>\n",
              "      <td>delicious food great service and an amazing ex...</td>\n",
              "    </tr>\n",
              "    <tr>\n",
              "      <th>1625151</th>\n",
              "      <td>xjlMlnxWqMd3FGODA_z1NA</td>\n",
              "      <td>\"China A Go Go\"</td>\n",
              "      <td>NV</td>\n",
              "      <td>Restaurants;Chinese</td>\n",
              "      <td>4</td>\n",
              "      <td>this is our favorite chinese restaurant in las...</td>\n",
              "      <td>this is our favorite chinese restaurant in las...</td>\n",
              "    </tr>\n",
              "    <tr>\n",
              "      <th>2675532</th>\n",
              "      <td>-yGaH-liIrAYqMiMExvngA</td>\n",
              "      <td>\"Portland Jerk\"</td>\n",
              "      <td>ON</td>\n",
              "      <td>Imported Food;Caribbean;Ethnic Food;Food;Resta...</td>\n",
              "      <td>1</td>\n",
              "      <td>the one older lady there is so cheap and ignor...</td>\n",
              "      <td>the one older lady there is so cheap and ignor...</td>\n",
              "    </tr>\n",
              "    <tr>\n",
              "      <th>1160897</th>\n",
              "      <td>DYAorbxOyubUB_wtQRCdug</td>\n",
              "      <td>\"MadHouse Coffee\"</td>\n",
              "      <td>NV</td>\n",
              "      <td>Food;Sandwiches;American (New);Coffee &amp; Tea;Re...</td>\n",
              "      <td>5</td>\n",
              "      <td>ive been here since probably since the week th...</td>\n",
              "      <td>ive been here since probably since the week th...</td>\n",
              "    </tr>\n",
              "    <tr>\n",
              "      <th>2765139</th>\n",
              "      <td>ZXfMiPsPv-cH7GMQ-5-mhA</td>\n",
              "      <td>\"Montana Meat Company\"</td>\n",
              "      <td>NV</td>\n",
              "      <td>Seafood;Restaurants;American (Traditional);Ste...</td>\n",
              "      <td>5</td>\n",
              "      <td>love this spot!!! amazing happy hour deals and...</td>\n",
              "      <td>love this spot amazing happy hour deals and gr...</td>\n",
              "    </tr>\n",
              "    <tr>\n",
              "      <th>1788105</th>\n",
              "      <td>4JNXUYY8wbaaDmk3BPzlWw</td>\n",
              "      <td>\"Mon Ami Gabi\"</td>\n",
              "      <td>NV</td>\n",
              "      <td>French;Steakhouses;Restaurants;Breakfast &amp; Brunch</td>\n",
              "      <td>2</td>\n",
              "      <td>i am shocked at all the positive reviews, beca...</td>\n",
              "      <td>i am shocked at all the positive reviews becau...</td>\n",
              "    </tr>\n",
              "    <tr>\n",
              "      <th>2918641</th>\n",
              "      <td>avWdG3ovY1HRWo_ktTrAng</td>\n",
              "      <td>\"Kabalen\"</td>\n",
              "      <td>ON</td>\n",
              "      <td>Filipino;Restaurants</td>\n",
              "      <td>4</td>\n",
              "      <td>this is essentially the filipino version of ma...</td>\n",
              "      <td>this is essentially the filipino version of ma...</td>\n",
              "    </tr>\n",
              "    <tr>\n",
              "      <th>1865319</th>\n",
              "      <td>YiRhyhrKQNwgV43Sy0LlOQ</td>\n",
              "      <td>\"Salumi Vino\"</td>\n",
              "      <td>QC</td>\n",
              "      <td>Nightlife;Bars;Restaurants;Wine Bars;Italian</td>\n",
              "      <td>5</td>\n",
              "      <td>we visited from out of town and loved everythi...</td>\n",
              "      <td>we visited from out of town and loved everythi...</td>\n",
              "    </tr>\n",
              "    <tr>\n",
              "      <th>1544448</th>\n",
              "      <td>kZspuWnM0Y-Losvk2Rl0lA</td>\n",
              "      <td>\"Cous Cous Mediterranean Cafe\"</td>\n",
              "      <td>NV</td>\n",
              "      <td>Mediterranean;Restaurants;Cafes;Burgers;Food;V...</td>\n",
              "      <td>4</td>\n",
              "      <td>great place to get a last minute bite before h...</td>\n",
              "      <td>great place to get a last minute bite before h...</td>\n",
              "    </tr>\n",
              "    <tr>\n",
              "      <th>81127</th>\n",
              "      <td>JDZ6_yycNQFTpUZzLIKHUg</td>\n",
              "      <td>\"El Dorado Cantina\"</td>\n",
              "      <td>NV</td>\n",
              "      <td>Lounges;Mexican;Restaurants;Bars;Nightlife</td>\n",
              "      <td>5</td>\n",
              "      <td>celebrated my valentines here first time ever....</td>\n",
              "      <td>celebrated my valentines here first time ever ...</td>\n",
              "    </tr>\n",
              "    <tr>\n",
              "      <th>2714946</th>\n",
              "      <td>EzUZU_y0ooTGbboxFck1Pg</td>\n",
              "      <td>\"Fuel Pizza Cafe\"</td>\n",
              "      <td>NC</td>\n",
              "      <td>Restaurants;Pizza;Sandwiches;Chicken Wings</td>\n",
              "      <td>1</td>\n",
              "      <td>this is the first time in my life that i have ...</td>\n",
              "      <td>this is the first time in my life that i have ...</td>\n",
              "    </tr>\n",
              "    <tr>\n",
              "      <th>784136</th>\n",
              "      <td>Mkb7dYT-tBGQPy6tUpWMKA</td>\n",
              "      <td>\"TapHouse Kitchen\"</td>\n",
              "      <td>AZ</td>\n",
              "      <td>Restaurants;American (New);Gastropubs;Gluten-Free</td>\n",
              "      <td>5</td>\n",
              "      <td>very pleasantly surprised!   the food exceeded...</td>\n",
              "      <td>very pleasantly surprised   the food exceeded ...</td>\n",
              "    </tr>\n",
              "    <tr>\n",
              "      <th>419267</th>\n",
              "      <td>G3rk0dDROzpDdTugsnSDTw</td>\n",
              "      <td>\"Via Vai Pizzeria &amp; Wine Bar\"</td>\n",
              "      <td>ON</td>\n",
              "      <td>Italian;Nightlife;Restaurants;Wine Bars;Bars;P...</td>\n",
              "      <td>3</td>\n",
              "      <td>since seeing this gorgeous restaurant featured...</td>\n",
              "      <td>since seeing this gorgeous restaurant featured...</td>\n",
              "    </tr>\n",
              "    <tr>\n",
              "      <th>1065270</th>\n",
              "      <td>SFh9uHtGR1lVPH2RTS2SWQ</td>\n",
              "      <td>\"McDonalds\"</td>\n",
              "      <td>IL</td>\n",
              "      <td>American (Traditional);Burgers;Restaurants;Fas...</td>\n",
              "      <td>5</td>\n",
              "      <td>it is one of the nicest looking mcdonald's i h...</td>\n",
              "      <td>it is one of the nicest looking mcdonald's i h...</td>\n",
              "    </tr>\n",
              "    <tr>\n",
              "      <th>648636</th>\n",
              "      <td>Xt6xo-UmJhYtHiscwRnw0A</td>\n",
              "      <td>\"Southern Tier Brewing\"</td>\n",
              "      <td>PA</td>\n",
              "      <td>Food;Pubs;Nightlife;Bars;Restaurants;Gastropub...</td>\n",
              "      <td>4</td>\n",
              "      <td>i was so excited for this place to open. i vis...</td>\n",
              "      <td>i was so excited for this place to open i visi...</td>\n",
              "    </tr>\n",
              "    <tr>\n",
              "      <th>1764604</th>\n",
              "      <td>q3YnYPjLuBGRDi_59yTC5g</td>\n",
              "      <td>\"Sidestreet Pho and Grill\"</td>\n",
              "      <td>NV</td>\n",
              "      <td>Restaurants;American (Traditional);Vietnamese</td>\n",
              "      <td>3</td>\n",
              "      <td>i will say the shrimp\\/pork rice paper spring ...</td>\n",
              "      <td>i will say the shrimp\\pork rice paper spring r...</td>\n",
              "    </tr>\n",
              "    <tr>\n",
              "      <th>1238316</th>\n",
              "      <td>eJ9L40jm5VOXCIq7xs9kQw</td>\n",
              "      <td>\"Restaurant Bonaparte\"</td>\n",
              "      <td>QC</td>\n",
              "      <td>Restaurants;French</td>\n",
              "      <td>4</td>\n",
              "      <td>pros: great food! and great service! i got the...</td>\n",
              "      <td>pros great food and great service i got the la...</td>\n",
              "    </tr>\n",
              "    <tr>\n",
              "      <th>1462972</th>\n",
              "      <td>KZy6irQ5k_vNoVgi1FvHdw</td>\n",
              "      <td>\"Dahmen's at Hawks\"</td>\n",
              "      <td>WI</td>\n",
              "      <td>Chicken Wings;Restaurants;Mexican;Food;Italian</td>\n",
              "      <td>5</td>\n",
              "      <td>dahmen's has some definite highlights on their...</td>\n",
              "      <td>dahmen's has some definite highlights on their...</td>\n",
              "    </tr>\n",
              "    <tr>\n",
              "      <th>2771042</th>\n",
              "      <td>oH6QAuoTLFaX97oqqpLTMg</td>\n",
              "      <td>\"Familia Pizzeria\"</td>\n",
              "      <td>NV</td>\n",
              "      <td>Sandwiches;Restaurants;Pizza;Italian</td>\n",
              "      <td>5</td>\n",
              "      <td>i was introduced to familia by some friends wh...</td>\n",
              "      <td>i was introduced to familia by some friends wh...</td>\n",
              "    </tr>\n",
              "    <tr>\n",
              "      <th>2462289</th>\n",
              "      <td>LLOCKcFIKbeWmiyCGytBSg</td>\n",
              "      <td>\"Eggspectation\"</td>\n",
              "      <td>QC</td>\n",
              "      <td>Breakfast &amp; Brunch;Restaurants</td>\n",
              "      <td>1</td>\n",
              "      <td>okay service. waited long for one worker to se...</td>\n",
              "      <td>okay service waited long for one worker to ser...</td>\n",
              "    </tr>\n",
              "    <tr>\n",
              "      <th>2709240</th>\n",
              "      <td>ygaOvp0PLBYaYeN9cZAlGg</td>\n",
              "      <td>\"Viet Noodle Bar\"</td>\n",
              "      <td>NV</td>\n",
              "      <td>Restaurants;Vietnamese;Barbeque;Soup</td>\n",
              "      <td>5</td>\n",
              "      <td>i can't count how many times i've been here al...</td>\n",
              "      <td>i can't count how many times i've been here al...</td>\n",
              "    </tr>\n",
              "    <tr>\n",
              "      <th>2952271</th>\n",
              "      <td>XL9aGjYi8dxieaL-L1TmHg</td>\n",
              "      <td>\"Tutti Santi\"</td>\n",
              "      <td>AZ</td>\n",
              "      <td>American (Traditional);Restaurants;Italian</td>\n",
              "      <td>4</td>\n",
              "      <td>so very good. i had the seafood raviolis and t...</td>\n",
              "      <td>so very good i had the seafood raviolis and th...</td>\n",
              "    </tr>\n",
              "    <tr>\n",
              "      <th>2065738</th>\n",
              "      <td>r3jVxgGPdjZd1II19dSbBg</td>\n",
              "      <td>\"Waamo Restaurant\"</td>\n",
              "      <td>AZ</td>\n",
              "      <td>Middle Eastern;Greek;Mediterranean;African;Res...</td>\n",
              "      <td>3</td>\n",
              "      <td>the iced tea is the best i've ever had. it has...</td>\n",
              "      <td>the iced tea is the best i've ever had it has ...</td>\n",
              "    </tr>\n",
              "    <tr>\n",
              "      <th>1917835</th>\n",
              "      <td>tR4VVIdzcJCQus4GUFq3IA</td>\n",
              "      <td>\"La Cucina Bistro &amp; Wine Bar\"</td>\n",
              "      <td>AZ</td>\n",
              "      <td>Italian;Restaurants;Wine Bars;Bars;Nightlife</td>\n",
              "      <td>5</td>\n",
              "      <td>great little spot. food was delicious, big win...</td>\n",
              "      <td>great little spot food was delicious big wine ...</td>\n",
              "    </tr>\n",
              "    <tr>\n",
              "      <th>187456</th>\n",
              "      <td>BQJokxJ4y4s57i7Mn65pvA</td>\n",
              "      <td>\"Hecho en Vegas\"</td>\n",
              "      <td>NV</td>\n",
              "      <td>Mexican;Restaurants</td>\n",
              "      <td>4</td>\n",
              "      <td>we were big fans of diego's, as it seems many ...</td>\n",
              "      <td>we were big fans of diego's as it seems many o...</td>\n",
              "    </tr>\n",
              "    <tr>\n",
              "      <th>2857759</th>\n",
              "      <td>65r0LP3I5sWH-1HXM6eQAg</td>\n",
              "      <td>\"Burger King\"</td>\n",
              "      <td>AZ</td>\n",
              "      <td>Burgers;Fast Food;Restaurants</td>\n",
              "      <td>1</td>\n",
              "      <td>such a disappointment.... i went through the d...</td>\n",
              "      <td>such a disappointment i went through the drive...</td>\n",
              "    </tr>\n",
              "    <tr>\n",
              "      <th>2223576</th>\n",
              "      <td>thBWpIcP6vclsHS6GfI1dw</td>\n",
              "      <td>\"Hotel Valley Ho\"</td>\n",
              "      <td>AZ</td>\n",
              "      <td>Beauty &amp; Spas;American (New);Day Spas;Hotels;E...</td>\n",
              "      <td>4</td>\n",
              "      <td>love this place! my bridesmaids and i spent my...</td>\n",
              "      <td>love this place my bridesmaids and i spent my ...</td>\n",
              "    </tr>\n",
              "    <tr>\n",
              "      <th>989085</th>\n",
              "      <td>wUKzaS1MHg94RGM6z8u9mw</td>\n",
              "      <td>\"Olive &amp; Ivy\"</td>\n",
              "      <td>AZ</td>\n",
              "      <td>Mediterranean;Restaurants;American (Traditiona...</td>\n",
              "      <td>4</td>\n",
              "      <td>i go there for the sangria alone! it's amazing...</td>\n",
              "      <td>i go there for the sangria alone it's amazing ...</td>\n",
              "    </tr>\n",
              "    <tr>\n",
              "      <th>2600788</th>\n",
              "      <td>whAwdYVty-jSNRhrYT2zHA</td>\n",
              "      <td>\"Pappadeaux Seafood Kitchen\"</td>\n",
              "      <td>AZ</td>\n",
              "      <td>Restaurants;Cajun/Creole;Seafood</td>\n",
              "      <td>3</td>\n",
              "      <td>to be truly honest, i would have to say good o...</td>\n",
              "      <td>to be truly honest i would have to say good ol...</td>\n",
              "    </tr>\n",
              "  </tbody>\n",
              "</table>\n",
              "<p>100 rows × 7 columns</p>\n",
              "</div>"
            ],
            "text/plain": [
              "                    business_id                            name state  \\\n",
              "1053174  WCFz9KVJTtIXSVvD5NMYoQ                   \"Chart House\"    NV   \n",
              "693097   -PKUAor_Nz_IaNjP_jIwyA       \"Playa Cabana - Hacienda\"    ON   \n",
              "1043630  2cib4FSxfh8OxRf9wX5RzQ           \"The Chocolate Moose\"    NV   \n",
              "1840562  LgroNa-JH5W-wpJACXuz5A                   \"Akita Sushi\"    AZ   \n",
              "2680949  klls1rEfABAUtO8J0YXSGQ              \"Aladdin's Eatery\"    PA   \n",
              "2339070  1qwkbN3wu3AGDxMTXVz2gA                       \"Topgolf\"    AZ   \n",
              "1824003  VqT-IURXmVS_fVRLTKxTFQ                      \"Cacao 70\"    QC   \n",
              "2132370  l_GV0hgEoTUf70uJVT0_hg                          \"Eat.\"    NV   \n",
              "430283   Vs7gc9EE3k9wARuUcN9piA                     \"Pan Asian\"    NV   \n",
              "3123035  JyxHvtj-syke7m9rbza7mA           \"Sushi House Goyemon\"    NV   \n",
              "1287562  DX88zzF2uG63hDZavRDJDQ             \"Ground Burger Bar\"    ON   \n",
              "3072024  jZZ2GSXKvaSbHJj4rTzn0A                \"Toyama Express\"    NC   \n",
              "469553   iCQpiavjjPzJ5_3gPD5Ebg                  \"Secret Pizza\"    NV   \n",
              "1476404  NcZYVjg1gqDONZW6MTVA2Q           \"La Grand-Mère Poule\"    QC   \n",
              "1560230  gpaseUoOfgPRzfekQVN6Vw                       \"Mario's\"    OH   \n",
              "116458   5OZS7Sz7oX6XBL7KZE0G1Q          \"Jasmine Thai Cuisine\"    AZ   \n",
              "528884   0d0i0FaJq1GIeW1rS2D-5w                        \"Bruxie\"    NV   \n",
              "1001686  VvXI3pyUFl1MAimZsX5RrA            \"Lorenzo's Pizzeria\"    NC   \n",
              "603513   1gQrMs-I8oKg2p-iRxznzQ        \"Soho Chicken + Whiskey\"    OH   \n",
              "1155735  Y-S2LhHefBdnX8VP5Bh_JA      \"Citizens Kitchen and Bar\"    NV   \n",
              "1247966  EZ9Uf-lSRtj1fvdMQlrwAw                    \"Thai Me Up\"    PA   \n",
              "167100   jRxLnJ9my31Re_O2MvQGhw    \"The Tasty Bowl Subs N Such\"    NC   \n",
              "1732208  gk7k2VCfKuqGuCLOJ-YU9g                   \"Maïko Sushi\"    QC   \n",
              "1582175  g8oxQ1Ji9mr9PMjhEfaWSg            \"Dick's Last Resort\"    NV   \n",
              "2570045  webM3oChwDCkzZEmjrSeHQ            \"The Croissant Tree\"    ON   \n",
              "2596637  BgQ5ob0QiZfO5YbgI7VyFw             \"Blue Adobe Grille\"    AZ   \n",
              "2452117  cKgUCzMGuRgkbKXUsgeXUw                  \"Barrio Queen\"    AZ   \n",
              "2568546  7sb2FYLS2sejZKxRYF9mtg                        \"Sakana\"    NV   \n",
              "2480559  Chr3YCuvt2mD-BHgqeo-OA                \"Chicken Latino\"    PA   \n",
              "2544656  b-0q4xbL6EWYUqnwqcYM4Q  \"Monterrey Mexican Restaurant\"    NC   \n",
              "...                         ...                             ...   ...   \n",
              "665194   2lF1UsGcDpDpaI1lXgRX_g                      \"Abuelo's\"    AZ   \n",
              "1597047  qB0WAMveyK2-3itLPOiqVw        \"Las Pupusas Restaurant\"    NV   \n",
              "1625151  xjlMlnxWqMd3FGODA_z1NA                 \"China A Go Go\"    NV   \n",
              "2675532  -yGaH-liIrAYqMiMExvngA                 \"Portland Jerk\"    ON   \n",
              "1160897  DYAorbxOyubUB_wtQRCdug               \"MadHouse Coffee\"    NV   \n",
              "2765139  ZXfMiPsPv-cH7GMQ-5-mhA          \"Montana Meat Company\"    NV   \n",
              "1788105  4JNXUYY8wbaaDmk3BPzlWw                  \"Mon Ami Gabi\"    NV   \n",
              "2918641  avWdG3ovY1HRWo_ktTrAng                       \"Kabalen\"    ON   \n",
              "1865319  YiRhyhrKQNwgV43Sy0LlOQ                   \"Salumi Vino\"    QC   \n",
              "1544448  kZspuWnM0Y-Losvk2Rl0lA  \"Cous Cous Mediterranean Cafe\"    NV   \n",
              "81127    JDZ6_yycNQFTpUZzLIKHUg             \"El Dorado Cantina\"    NV   \n",
              "2714946  EzUZU_y0ooTGbboxFck1Pg               \"Fuel Pizza Cafe\"    NC   \n",
              "784136   Mkb7dYT-tBGQPy6tUpWMKA              \"TapHouse Kitchen\"    AZ   \n",
              "419267   G3rk0dDROzpDdTugsnSDTw   \"Via Vai Pizzeria & Wine Bar\"    ON   \n",
              "1065270  SFh9uHtGR1lVPH2RTS2SWQ                     \"McDonalds\"    IL   \n",
              "648636   Xt6xo-UmJhYtHiscwRnw0A         \"Southern Tier Brewing\"    PA   \n",
              "1764604  q3YnYPjLuBGRDi_59yTC5g      \"Sidestreet Pho and Grill\"    NV   \n",
              "1238316  eJ9L40jm5VOXCIq7xs9kQw          \"Restaurant Bonaparte\"    QC   \n",
              "1462972  KZy6irQ5k_vNoVgi1FvHdw             \"Dahmen's at Hawks\"    WI   \n",
              "2771042  oH6QAuoTLFaX97oqqpLTMg              \"Familia Pizzeria\"    NV   \n",
              "2462289  LLOCKcFIKbeWmiyCGytBSg                 \"Eggspectation\"    QC   \n",
              "2709240  ygaOvp0PLBYaYeN9cZAlGg               \"Viet Noodle Bar\"    NV   \n",
              "2952271  XL9aGjYi8dxieaL-L1TmHg                   \"Tutti Santi\"    AZ   \n",
              "2065738  r3jVxgGPdjZd1II19dSbBg              \"Waamo Restaurant\"    AZ   \n",
              "1917835  tR4VVIdzcJCQus4GUFq3IA   \"La Cucina Bistro & Wine Bar\"    AZ   \n",
              "187456   BQJokxJ4y4s57i7Mn65pvA                \"Hecho en Vegas\"    NV   \n",
              "2857759  65r0LP3I5sWH-1HXM6eQAg                   \"Burger King\"    AZ   \n",
              "2223576  thBWpIcP6vclsHS6GfI1dw               \"Hotel Valley Ho\"    AZ   \n",
              "989085   wUKzaS1MHg94RGM6z8u9mw                   \"Olive & Ivy\"    AZ   \n",
              "2600788  whAwdYVty-jSNRhrYT2zHA    \"Pappadeaux Seafood Kitchen\"    AZ   \n",
              "\n",
              "                                                categories  stars  \\\n",
              "1053174  Seafood;Event Planning & Services;American (Tr...      4   \n",
              "693097                                 Restaurants;Mexican      3   \n",
              "1043630  Desserts;Cafes;Ice Cream & Frozen Yogurt;Food;...      5   \n",
              "1840562                             Restaurants;Sushi Bars      5   \n",
              "2680949  Soup;Food;Mediterranean;Vegetarian;Juice Bars ...      4   \n",
              "2339070  Sports Bars;Bars;Active Life;Restaurants;Night...      4   \n",
              "1824003  Chocolatiers & Shops;Breakfast & Brunch;Desser...      5   \n",
              "2132370  Restaurants;American (New);Sandwiches;Breakfas...      4   \n",
              "430283                   Japanese;Restaurants;Thai;Chinese      5   \n",
              "3123035                    Sushi Bars;Japanese;Restaurants      5   \n",
              "1287562       Food;Burgers;Beer;Wine & Spirits;Restaurants      5   \n",
              "3072024                               Restaurants;Japanese      4   \n",
              "469553                                   Pizza;Restaurants      1   \n",
              "1476404                     Breakfast & Brunch;Restaurants      3   \n",
              "1560230          Restaurants;Bars;American (New);Nightlife      3   \n",
              "116458                                    Thai;Restaurants      4   \n",
              "528884   Breakfast & Brunch;Food;Desserts;Restaurants;W...      5   \n",
              "1001686                          Pizza;Restaurants;Italian      5   \n",
              "603513   Nightlife;Southern;Breakfast & Brunch;Restaura...      4   \n",
              "1155735  Comfort Food;Restaurants;Steakhouses;American ...      1   \n",
              "1247966                                   Restaurants;Thai      3   \n",
              "167100   Restaurants;Fast Food;Caribbean;Mexican;Thai;I...      5   \n",
              "1732208                    Restaurants;Sushi Bars;Japanese      1   \n",
              "1582175  Nightlife;Beer;Wine & Spirits;Restaurants;Bars...      5   \n",
              "2570045  Event Planning & Services;Food;Restaurants;Cat...      3   \n",
              "2596637                 Restaurants;Bars;Nightlife;Mexican      4   \n",
              "2452117                                Mexican;Restaurants      5   \n",
              "2568546            Sushi Bars;Japanese;Buffets;Restaurants      5   \n",
              "2480559                Peruvian;Restaurants;Latin American      2   \n",
              "2544656                                Restaurants;Mexican      2   \n",
              "...                                                    ...    ...   \n",
              "665194                         Mexican;Tex-Mex;Restaurants      3   \n",
              "1597047                 Latin American;Restaurants;Mexican      5   \n",
              "1625151                                Restaurants;Chinese      4   \n",
              "2675532  Imported Food;Caribbean;Ethnic Food;Food;Resta...      1   \n",
              "1160897  Food;Sandwiches;American (New);Coffee & Tea;Re...      5   \n",
              "2765139  Seafood;Restaurants;American (Traditional);Ste...      5   \n",
              "1788105  French;Steakhouses;Restaurants;Breakfast & Brunch      2   \n",
              "2918641                               Filipino;Restaurants      4   \n",
              "1865319       Nightlife;Bars;Restaurants;Wine Bars;Italian      5   \n",
              "1544448  Mediterranean;Restaurants;Cafes;Burgers;Food;V...      4   \n",
              "81127           Lounges;Mexican;Restaurants;Bars;Nightlife      5   \n",
              "2714946         Restaurants;Pizza;Sandwiches;Chicken Wings      1   \n",
              "784136   Restaurants;American (New);Gastropubs;Gluten-Free      5   \n",
              "419267   Italian;Nightlife;Restaurants;Wine Bars;Bars;P...      3   \n",
              "1065270  American (Traditional);Burgers;Restaurants;Fas...      5   \n",
              "648636   Food;Pubs;Nightlife;Bars;Restaurants;Gastropub...      4   \n",
              "1764604      Restaurants;American (Traditional);Vietnamese      3   \n",
              "1238316                                 Restaurants;French      4   \n",
              "1462972     Chicken Wings;Restaurants;Mexican;Food;Italian      5   \n",
              "2771042               Sandwiches;Restaurants;Pizza;Italian      5   \n",
              "2462289                     Breakfast & Brunch;Restaurants      1   \n",
              "2709240               Restaurants;Vietnamese;Barbeque;Soup      5   \n",
              "2952271         American (Traditional);Restaurants;Italian      4   \n",
              "2065738  Middle Eastern;Greek;Mediterranean;African;Res...      3   \n",
              "1917835       Italian;Restaurants;Wine Bars;Bars;Nightlife      5   \n",
              "187456                                 Mexican;Restaurants      4   \n",
              "2857759                      Burgers;Fast Food;Restaurants      1   \n",
              "2223576  Beauty & Spas;American (New);Day Spas;Hotels;E...      4   \n",
              "989085   Mediterranean;Restaurants;American (Traditiona...      4   \n",
              "2600788                   Restaurants;Cajun/Creole;Seafood      3   \n",
              "\n",
              "                                                      text  \\\n",
              "1053174  we made reservations to chart house on my birt...   \n",
              "693097   food was delicious- guac, the corn and the tac...   \n",
              "1043630  the most absolute awesome little eatery i've b...   \n",
              "1840562  i can't praise akita sushi enough. the locatio...   \n",
              "2680949  this is one of the few chain restaurants i enj...   \n",
              "2339070  we went to the location in gilbert. super fun ...   \n",
              "1824003  i visited cacao 70 again tonight, and was agai...   \n",
              "2132370  went here new year's day for breakfast with a ...   \n",
              "430283   awesome food, great spirit ,owners friendly ,s...   \n",
              "3123035  sushi house goyemon is the best all-you-can-ea...   \n",
              "1287562  this place is frigin awesome!  i mean - probab...   \n",
              "3072024  i am dismayed at people giving this place low ...   \n",
              "469553   ordered a whole deluxe pie, had a conversation...   \n",
              "1476404  place à déjeuner classique le café est en extr...   \n",
              "1560230  finally tried this place allowing time to work...   \n",
              "116458   duck noodle soup is amazing.  very high qualit...   \n",
              "528884   i ordered the nashville sandwich that was supe...   \n",
              "1001686  freaking delicious pizza! the slices are huge ...   \n",
              "603513   per usual, some friends and i were hungover an...   \n",
              "1155735  i love this restaurant and especially their wo...   \n",
              "1247966  how can i not review the place that bears the ...   \n",
              "167100   i love this place! the food is great and the s...   \n",
              "1732208  no seriously. this is not sushi, this is some ...   \n",
              "1582175  had alot of fun would do it again and ribs wer...   \n",
              "2570045  open rafters, free wifi, all day breakfast.......   \n",
              "2596637  cut to the chase: we were lucky and came early...   \n",
              "2452117  hands down my favorite restaurant. i would eat...   \n",
              "2568546  good food, great service..visiting las vegas a...   \n",
              "2480559  i wasn't impressed with the menu. only one ite...   \n",
              "2544656  service is decent but food is highly overprice...   \n",
              "...                                                    ...   \n",
              "665194   this place as just ok... i expected far too mu...   \n",
              "1597047  delicious food, great service and an amazing e...   \n",
              "1625151  this is our favorite chinese restaurant in las...   \n",
              "2675532  the one older lady there is so cheap and ignor...   \n",
              "1160897  ive been here since probably since the week th...   \n",
              "2765139  love this spot!!! amazing happy hour deals and...   \n",
              "1788105  i am shocked at all the positive reviews, beca...   \n",
              "2918641  this is essentially the filipino version of ma...   \n",
              "1865319  we visited from out of town and loved everythi...   \n",
              "1544448  great place to get a last minute bite before h...   \n",
              "81127    celebrated my valentines here first time ever....   \n",
              "2714946  this is the first time in my life that i have ...   \n",
              "784136   very pleasantly surprised!   the food exceeded...   \n",
              "419267   since seeing this gorgeous restaurant featured...   \n",
              "1065270  it is one of the nicest looking mcdonald's i h...   \n",
              "648636   i was so excited for this place to open. i vis...   \n",
              "1764604  i will say the shrimp\\/pork rice paper spring ...   \n",
              "1238316  pros: great food! and great service! i got the...   \n",
              "1462972  dahmen's has some definite highlights on their...   \n",
              "2771042  i was introduced to familia by some friends wh...   \n",
              "2462289  okay service. waited long for one worker to se...   \n",
              "2709240  i can't count how many times i've been here al...   \n",
              "2952271  so very good. i had the seafood raviolis and t...   \n",
              "2065738  the iced tea is the best i've ever had. it has...   \n",
              "1917835  great little spot. food was delicious, big win...   \n",
              "187456   we were big fans of diego's, as it seems many ...   \n",
              "2857759  such a disappointment.... i went through the d...   \n",
              "2223576  love this place! my bridesmaids and i spent my...   \n",
              "989085   i go there for the sangria alone! it's amazing...   \n",
              "2600788  to be truly honest, i would have to say good o...   \n",
              "\n",
              "                                        removed_punct_text  \n",
              "1053174  we made reservations to chart house on my birt...  \n",
              "693097   food was delicious guac the corn and the tacos...  \n",
              "1043630  the most absolute awesome little eatery i've b...  \n",
              "1840562  i can't praise akita sushi enough the location...  \n",
              "2680949  this is one of the few chain restaurants i enj...  \n",
              "2339070  we went to the location in gilbert super fun a...  \n",
              "1824003  i visited cacao 70 again tonight and was again...  \n",
              "2132370  went here new year's day for breakfast with a ...  \n",
              "430283   awesome food great spirit owners friendly sata...  \n",
              "3123035  sushi house goyemon is the best allyoucaneat a...  \n",
              "1287562  this place is frigin awesome  i mean  probably...  \n",
              "3072024  i am dismayed at people giving this place low ...  \n",
              "469553   ordered a whole deluxe pie had a conversation ...  \n",
              "1476404  place à déjeuner classique le café est en extr...  \n",
              "1560230  finally tried this place allowing time to work...  \n",
              "116458   duck noodle soup is amazing  very high quality...  \n",
              "528884   i ordered the nashville sandwich that was supe...  \n",
              "1001686  freaking delicious pizza the slices are huge a...  \n",
              "603513   per usual some friends and i were hungover and...  \n",
              "1155735  i love this restaurant and especially their wo...  \n",
              "1247966  how can i not review the place that bears the ...  \n",
              "167100   i love this place the food is great and the st...  \n",
              "1732208  no seriously this is not sushi this is some so...  \n",
              "1582175  had alot of fun would do it again and ribs wer...  \n",
              "2570045  open rafters free wifi all day breakfastif i w...  \n",
              "2596637  cut to the chase we were lucky and came early ...  \n",
              "2452117  hands down my favorite restaurant i would eat ...  \n",
              "2568546  good food great servicevisiting las vegas and ...  \n",
              "2480559  i wasn't impressed with the menu only one item...  \n",
              "2544656  service is decent but food is highly overprice...  \n",
              "...                                                    ...  \n",
              "665194   this place as just ok i expected far too much ...  \n",
              "1597047  delicious food great service and an amazing ex...  \n",
              "1625151  this is our favorite chinese restaurant in las...  \n",
              "2675532  the one older lady there is so cheap and ignor...  \n",
              "1160897  ive been here since probably since the week th...  \n",
              "2765139  love this spot amazing happy hour deals and gr...  \n",
              "1788105  i am shocked at all the positive reviews becau...  \n",
              "2918641  this is essentially the filipino version of ma...  \n",
              "1865319  we visited from out of town and loved everythi...  \n",
              "1544448  great place to get a last minute bite before h...  \n",
              "81127    celebrated my valentines here first time ever ...  \n",
              "2714946  this is the first time in my life that i have ...  \n",
              "784136   very pleasantly surprised   the food exceeded ...  \n",
              "419267   since seeing this gorgeous restaurant featured...  \n",
              "1065270  it is one of the nicest looking mcdonald's i h...  \n",
              "648636   i was so excited for this place to open i visi...  \n",
              "1764604  i will say the shrimp\\pork rice paper spring r...  \n",
              "1238316  pros great food and great service i got the la...  \n",
              "1462972  dahmen's has some definite highlights on their...  \n",
              "2771042  i was introduced to familia by some friends wh...  \n",
              "2462289  okay service waited long for one worker to ser...  \n",
              "2709240  i can't count how many times i've been here al...  \n",
              "2952271  so very good i had the seafood raviolis and th...  \n",
              "2065738  the iced tea is the best i've ever had it has ...  \n",
              "1917835  great little spot food was delicious big wine ...  \n",
              "187456   we were big fans of diego's as it seems many o...  \n",
              "2857759  such a disappointment i went through the drive...  \n",
              "2223576  love this place my bridesmaids and i spent my ...  \n",
              "989085   i go there for the sangria alone it's amazing ...  \n",
              "2600788  to be truly honest i would have to say good ol...  \n",
              "\n",
              "[100 rows x 7 columns]"
            ]
          },
          "metadata": {
            "tags": []
          },
          "execution_count": 72
        }
      ]
    },
    {
      "metadata": {
        "id": "j2zYSsDit4MX",
        "colab_type": "text"
      },
      "cell_type": "markdown",
      "source": [
        "**Creating List of Positive, Negative and Neutral word list**"
      ]
    },
    {
      "metadata": {
        "id": "Wn2zFiD1IFfF",
        "colab_type": "code",
        "colab": {
          "base_uri": "https://localhost:8080/",
          "height": 54
        },
        "outputId": "888651b3-7d1f-4031-bf97-0f5352329d99"
      },
      "cell_type": "code",
      "source": [
        "positive_words=[\"good\",\"great\",\"love\",\"best\",\"fantastic\",\"healthiest\",\"definitely\",\"authentic\",\"professional\",\"knowledgeable\",\"confident\",\"polite\",\"friendly\",\"free\",\"wifi\",\"pretty\",\"priceless\",\"privilege\",\"prompt\",\"awesome\"]\n",
        "negative_words=[\"horrible\",\"slow\",\"irritation\",\"disappointed\",\"awful\",\"abruptly\",\"ashamed\",\"awful\",\"worse\"]\n",
        "neutral_words=[\"fine\",\"average\",\"ok\",\"satisfy\",\"overall\",\"unfortunately\",\"much\",\"wont\",\"just\",\"worth\",\"still\", \"though\"]\n",
        "mergedlist = positive_words + negative_words+neutral_words\n",
        "print(mergedlist)"
      ],
      "execution_count": 73,
      "outputs": [
        {
          "output_type": "stream",
          "text": [
            "['good', 'great', 'love', 'best', 'fantastic', 'healthiest', 'definitely', 'authentic', 'professional', 'knowledgeable', 'confident', 'polite', 'friendly', 'free', 'wifi', 'pretty', 'priceless', 'privilege', 'prompt', 'awesome', 'horrible', 'slow', 'irritation', 'disappointed', 'awful', 'abruptly', 'ashamed', 'awful', 'worse', 'fine', 'average', 'ok', 'satisfy', 'overall', 'unfortunately', 'much', 'wont', 'just', 'worth', 'still', 'though']\n"
          ],
          "name": "stdout"
        }
      ]
    },
    {
      "metadata": {
        "id": "1yCFdQTTuAYr",
        "colab_type": "text"
      },
      "cell_type": "markdown",
      "source": [
        "**Custom logic to label each review in the data set**"
      ]
    },
    {
      "metadata": {
        "id": "r5ICUgIIIJJx",
        "colab_type": "code",
        "colab": {
          "base_uri": "https://localhost:8080/",
          "height": 51
        },
        "outputId": "66e8587b-853a-495a-d4cc-7dbdd0f0b95f"
      },
      "cell_type": "code",
      "source": [
        "#reviews = \"good yes\"\n",
        "import nltk\n",
        "nltk.download('punkt')\n",
        "Cust = []\n",
        "from nltk.tokenize import sent_tokenize, word_tokenize\n",
        "for r in df['text']: # counter for month indices\n",
        "    review = word_tokenize(r)\n",
        "    pos = 0\n",
        "    neg = 0\n",
        "    neu = 0\n",
        "    for word in review:\n",
        "        if word in mergedlist:\n",
        "            if word in positive_words:\n",
        "             pos = pos+1\n",
        "            elif word in negative_words:\n",
        "             neg = neg+1\n",
        "            elif word in neutral_words:\n",
        "             neu = neu +1\n",
        "    #monthly_mean.append(s/n)\n",
        "    if pos >= neg and pos >= neu:\n",
        "     Cust.append('Positive')\n",
        "    elif neg >= neu:\n",
        "     Cust.append('Negative')\n",
        "    else:\n",
        "     Cust.append('Neutral') \n",
        "#print(pos)\n",
        "#print(neg)\n",
        "df['Predicted_review'] = Cust \n"
      ],
      "execution_count": 74,
      "outputs": [
        {
          "output_type": "stream",
          "text": [
            "[nltk_data] Downloading package punkt to /root/nltk_data...\n",
            "[nltk_data]   Package punkt is already up-to-date!\n"
          ],
          "name": "stdout"
        }
      ]
    },
    {
      "metadata": {
        "id": "tLxkPJEr5slB",
        "colab_type": "code",
        "colab": {
          "base_uri": "https://localhost:8080/",
          "height": 323
        },
        "outputId": "c36a9d7d-6379-4466-ade5-4ca3be008877"
      },
      "cell_type": "code",
      "source": [
        "df.head()"
      ],
      "execution_count": 75,
      "outputs": [
        {
          "output_type": "execute_result",
          "data": {
            "text/html": [
              "<div>\n",
              "<style scoped>\n",
              "    .dataframe tbody tr th:only-of-type {\n",
              "        vertical-align: middle;\n",
              "    }\n",
              "\n",
              "    .dataframe tbody tr th {\n",
              "        vertical-align: top;\n",
              "    }\n",
              "\n",
              "    .dataframe thead th {\n",
              "        text-align: right;\n",
              "    }\n",
              "</style>\n",
              "<table border=\"1\" class=\"dataframe\">\n",
              "  <thead>\n",
              "    <tr style=\"text-align: right;\">\n",
              "      <th></th>\n",
              "      <th>business_id</th>\n",
              "      <th>name</th>\n",
              "      <th>state</th>\n",
              "      <th>categories</th>\n",
              "      <th>stars</th>\n",
              "      <th>text</th>\n",
              "      <th>removed_punct_text</th>\n",
              "      <th>Predicted_review</th>\n",
              "    </tr>\n",
              "  </thead>\n",
              "  <tbody>\n",
              "    <tr>\n",
              "      <th>1053174</th>\n",
              "      <td>WCFz9KVJTtIXSVvD5NMYoQ</td>\n",
              "      <td>\"Chart House\"</td>\n",
              "      <td>NV</td>\n",
              "      <td>Seafood;Event Planning &amp; Services;American (Tr...</td>\n",
              "      <td>4</td>\n",
              "      <td>we made reservations to chart house on my birt...</td>\n",
              "      <td>we made reservations to chart house on my birt...</td>\n",
              "      <td>Positive</td>\n",
              "    </tr>\n",
              "    <tr>\n",
              "      <th>693097</th>\n",
              "      <td>-PKUAor_Nz_IaNjP_jIwyA</td>\n",
              "      <td>\"Playa Cabana - Hacienda\"</td>\n",
              "      <td>ON</td>\n",
              "      <td>Restaurants;Mexican</td>\n",
              "      <td>3</td>\n",
              "      <td>food was delicious- guac, the corn and the tac...</td>\n",
              "      <td>food was delicious guac the corn and the tacos...</td>\n",
              "      <td>Neutral</td>\n",
              "    </tr>\n",
              "    <tr>\n",
              "      <th>1043630</th>\n",
              "      <td>2cib4FSxfh8OxRf9wX5RzQ</td>\n",
              "      <td>\"The Chocolate Moose\"</td>\n",
              "      <td>NV</td>\n",
              "      <td>Desserts;Cafes;Ice Cream &amp; Frozen Yogurt;Food;...</td>\n",
              "      <td>5</td>\n",
              "      <td>the most absolute awesome little eatery i've b...</td>\n",
              "      <td>the most absolute awesome little eatery i've b...</td>\n",
              "      <td>Positive</td>\n",
              "    </tr>\n",
              "    <tr>\n",
              "      <th>1840562</th>\n",
              "      <td>LgroNa-JH5W-wpJACXuz5A</td>\n",
              "      <td>\"Akita Sushi\"</td>\n",
              "      <td>AZ</td>\n",
              "      <td>Restaurants;Sushi Bars</td>\n",
              "      <td>5</td>\n",
              "      <td>i can't praise akita sushi enough. the locatio...</td>\n",
              "      <td>i can't praise akita sushi enough the location...</td>\n",
              "      <td>Positive</td>\n",
              "    </tr>\n",
              "    <tr>\n",
              "      <th>2680949</th>\n",
              "      <td>klls1rEfABAUtO8J0YXSGQ</td>\n",
              "      <td>\"Aladdin's Eatery\"</td>\n",
              "      <td>PA</td>\n",
              "      <td>Soup;Food;Mediterranean;Vegetarian;Juice Bars ...</td>\n",
              "      <td>4</td>\n",
              "      <td>this is one of the few chain restaurants i enj...</td>\n",
              "      <td>this is one of the few chain restaurants i enj...</td>\n",
              "      <td>Neutral</td>\n",
              "    </tr>\n",
              "  </tbody>\n",
              "</table>\n",
              "</div>"
            ],
            "text/plain": [
              "                    business_id                       name state  \\\n",
              "1053174  WCFz9KVJTtIXSVvD5NMYoQ              \"Chart House\"    NV   \n",
              "693097   -PKUAor_Nz_IaNjP_jIwyA  \"Playa Cabana - Hacienda\"    ON   \n",
              "1043630  2cib4FSxfh8OxRf9wX5RzQ      \"The Chocolate Moose\"    NV   \n",
              "1840562  LgroNa-JH5W-wpJACXuz5A              \"Akita Sushi\"    AZ   \n",
              "2680949  klls1rEfABAUtO8J0YXSGQ         \"Aladdin's Eatery\"    PA   \n",
              "\n",
              "                                                categories  stars  \\\n",
              "1053174  Seafood;Event Planning & Services;American (Tr...      4   \n",
              "693097                                 Restaurants;Mexican      3   \n",
              "1043630  Desserts;Cafes;Ice Cream & Frozen Yogurt;Food;...      5   \n",
              "1840562                             Restaurants;Sushi Bars      5   \n",
              "2680949  Soup;Food;Mediterranean;Vegetarian;Juice Bars ...      4   \n",
              "\n",
              "                                                      text  \\\n",
              "1053174  we made reservations to chart house on my birt...   \n",
              "693097   food was delicious- guac, the corn and the tac...   \n",
              "1043630  the most absolute awesome little eatery i've b...   \n",
              "1840562  i can't praise akita sushi enough. the locatio...   \n",
              "2680949  this is one of the few chain restaurants i enj...   \n",
              "\n",
              "                                        removed_punct_text Predicted_review  \n",
              "1053174  we made reservations to chart house on my birt...         Positive  \n",
              "693097   food was delicious guac the corn and the tacos...          Neutral  \n",
              "1043630  the most absolute awesome little eatery i've b...         Positive  \n",
              "1840562  i can't praise akita sushi enough the location...         Positive  \n",
              "2680949  this is one of the few chain restaurants i enj...          Neutral  "
            ]
          },
          "metadata": {
            "tags": []
          },
          "execution_count": 75
        }
      ]
    },
    {
      "metadata": {
        "id": "vi1LQF-5IOdG",
        "colab_type": "code",
        "colab": {
          "base_uri": "https://localhost:8080/",
          "height": 34
        },
        "outputId": "60c5c9cd-a87b-470e-a9d8-441fe3b56710"
      },
      "cell_type": "code",
      "source": [
        "df.shape"
      ],
      "execution_count": 76,
      "outputs": [
        {
          "output_type": "execute_result",
          "data": {
            "text/plain": [
              "(644284, 8)"
            ]
          },
          "metadata": {
            "tags": []
          },
          "execution_count": 76
        }
      ]
    },
    {
      "metadata": {
        "id": "Nt8YjD_CuHsi",
        "colab_type": "text"
      },
      "cell_type": "markdown",
      "source": [
        "**Splitting the data for training and testing the model**"
      ]
    },
    {
      "metadata": {
        "id": "I935CKe9ISMu",
        "colab_type": "code",
        "colab": {}
      },
      "cell_type": "code",
      "source": [
        "x = df['text']\n",
        "y = df['Predicted_review']\n",
        "from sklearn.model_selection import train_test_split\n",
        "x_train, x_test, y_train, y_test = train_test_split(x,y,test_size = 0.3, random_state = 101)"
      ],
      "execution_count": 0,
      "outputs": []
    },
    {
      "metadata": {
        "id": "Yb9ViUb8IXSo",
        "colab_type": "code",
        "colab": {}
      },
      "cell_type": "code",
      "source": [
        "from sklearn.feature_extraction.text import CountVectorizer\n",
        "cv_transformer = CountVectorizer(analyzer = 'word')"
      ],
      "execution_count": 0,
      "outputs": []
    },
    {
      "metadata": {
        "id": "f5N3blRjIc5K",
        "colab_type": "code",
        "colab": {}
      },
      "cell_type": "code",
      "source": [
        "x = cv_transformer.fit_transform(x)"
      ],
      "execution_count": 0,
      "outputs": []
    },
    {
      "metadata": {
        "id": "QLOCsGG7IiWg",
        "colab_type": "code",
        "colab": {}
      },
      "cell_type": "code",
      "source": [
        "from sklearn.model_selection import train_test_split\n",
        "x_train, x_test, y_train, y_test = train_test_split(x,y,test_size = 0.3, random_state = 101)"
      ],
      "execution_count": 0,
      "outputs": []
    },
    {
      "metadata": {
        "id": "8Q2kecQmuV2O",
        "colab_type": "text"
      },
      "cell_type": "markdown",
      "source": [
        "# **Fitting the Classifier**\n",
        "\n",
        "**1. Naive Bayes**\n",
        "\n",
        "**2. Random Forest**"
      ]
    },
    {
      "metadata": {
        "id": "NDUz7SFCIx2W",
        "colab_type": "code",
        "colab": {}
      },
      "cell_type": "code",
      "source": [
        "from sklearn.naive_bayes import MultinomialNB"
      ],
      "execution_count": 0,
      "outputs": []
    },
    {
      "metadata": {
        "id": "IWpmHpXUumhn",
        "colab_type": "text"
      },
      "cell_type": "markdown",
      "source": [
        "# **Naive Bayes Classifier**"
      ]
    },
    {
      "metadata": {
        "id": "NN23aVULI4nD",
        "colab_type": "code",
        "colab": {
          "base_uri": "https://localhost:8080/",
          "height": 34
        },
        "outputId": "4b46e5e0-337d-419d-8425-fb3f2cb363a1"
      },
      "cell_type": "code",
      "source": [
        "nb = MultinomialNB()\n",
        "nb.fit(x_train, y_train)"
      ],
      "execution_count": 82,
      "outputs": [
        {
          "output_type": "execute_result",
          "data": {
            "text/plain": [
              "MultinomialNB(alpha=1.0, class_prior=None, fit_prior=True)"
            ]
          },
          "metadata": {
            "tags": []
          },
          "execution_count": 82
        }
      ]
    },
    {
      "metadata": {
        "id": "xEVrXuM3I_F3",
        "colab_type": "code",
        "colab": {
          "base_uri": "https://localhost:8080/",
          "height": 51
        },
        "outputId": "e3b9b014-2b5c-47ba-d629-15ef5bf8f347"
      },
      "cell_type": "code",
      "source": [
        "predictions = nb.predict(x_test)\n",
        "predictions"
      ],
      "execution_count": 83,
      "outputs": [
        {
          "output_type": "execute_result",
          "data": {
            "text/plain": [
              "array(['Positive', 'Positive', 'Positive', ..., 'Positive', 'Positive',\n",
              "       'Positive'], dtype='<U8')"
            ]
          },
          "metadata": {
            "tags": []
          },
          "execution_count": 83
        }
      ]
    },
    {
      "metadata": {
        "id": "lknuhjGCJBjx",
        "colab_type": "code",
        "colab": {}
      },
      "cell_type": "code",
      "source": [
        "from sklearn.metrics import classification_report, confusion_matrix"
      ],
      "execution_count": 0,
      "outputs": []
    },
    {
      "metadata": {
        "id": "6N7nUPCLussw",
        "colab_type": "text"
      },
      "cell_type": "markdown",
      "source": [
        "**Score for NB classifier**"
      ]
    },
    {
      "metadata": {
        "id": "CwMZA3wVJeQd",
        "colab_type": "code",
        "colab": {
          "base_uri": "https://localhost:8080/",
          "height": 272
        },
        "outputId": "ba57f647-d505-4708-8d6d-2da83435afd0"
      },
      "cell_type": "code",
      "source": [
        "print(confusion_matrix(y_test, predictions))\n",
        "print(\"\\n\")\n",
        "print(classification_report(y_test, predictions))"
      ],
      "execution_count": 85,
      "outputs": [
        {
          "output_type": "stream",
          "text": [
            "[[   826   2363   1665]\n",
            " [   117  17272  12553]\n",
            " [   764  20380 137346]]\n",
            "\n",
            "\n",
            "              precision    recall  f1-score   support\n",
            "\n",
            "    Negative       0.48      0.17      0.25      4854\n",
            "     Neutral       0.43      0.58      0.49     29942\n",
            "    Positive       0.91      0.87      0.89    158490\n",
            "\n",
            "   micro avg       0.80      0.80      0.80    193286\n",
            "   macro avg       0.61      0.54      0.54    193286\n",
            "weighted avg       0.82      0.80      0.81    193286\n",
            "\n"
          ],
          "name": "stdout"
        }
      ]
    },
    {
      "metadata": {
        "id": "czlvJat2uyRN",
        "colab_type": "text"
      },
      "cell_type": "markdown",
      "source": [
        "# **2. Random Forest **"
      ]
    },
    {
      "metadata": {
        "id": "QY1zQq0xJht2",
        "colab_type": "code",
        "colab": {
          "base_uri": "https://localhost:8080/",
          "height": 105
        },
        "outputId": "5a648fc7-2902-43f3-98ef-9c4b97b12406"
      },
      "cell_type": "code",
      "source": [
        "#Random Forest Classifier\n",
        "from sklearn.ensemble import RandomForestClassifier\n",
        "rmfr = RandomForestClassifier()\n",
        "rmfr.fit(x_train,y_train)\n",
        "predrmfr = rmfr.predict(x_test)\n",
        "predrmfr"
      ],
      "execution_count": 86,
      "outputs": [
        {
          "output_type": "stream",
          "text": [
            "/usr/local/lib/python3.6/dist-packages/sklearn/ensemble/forest.py:246: FutureWarning: The default value of n_estimators will change from 10 in version 0.20 to 100 in 0.22.\n",
            "  \"10 in version 0.20 to 100 in 0.22.\", FutureWarning)\n"
          ],
          "name": "stderr"
        },
        {
          "output_type": "execute_result",
          "data": {
            "text/plain": [
              "array(['Positive', 'Positive', 'Positive', ..., 'Positive', 'Neutral',\n",
              "       'Positive'], dtype=object)"
            ]
          },
          "metadata": {
            "tags": []
          },
          "execution_count": 86
        }
      ]
    },
    {
      "metadata": {
        "id": "R_J1cacIu3Ue",
        "colab_type": "text"
      },
      "cell_type": "markdown",
      "source": [
        "**Scores for Random Forest**"
      ]
    },
    {
      "metadata": {
        "id": "p_l4o6_0Jly3",
        "colab_type": "code",
        "colab": {
          "base_uri": "https://localhost:8080/",
          "height": 272
        },
        "outputId": "9f800fb8-1142-434c-8ecd-6672d5c7c138"
      },
      "cell_type": "code",
      "source": [
        "print(confusion_matrix(y_test, predrmfr))\n",
        "print(\"\\n\")\n",
        "print(classification_report(y_test, predrmfr))"
      ],
      "execution_count": 87,
      "outputs": [
        {
          "output_type": "stream",
          "text": [
            "[[   203    261   4390]\n",
            " [    25   3851  26066]\n",
            " [    28   2642 155820]]\n",
            "\n",
            "\n",
            "              precision    recall  f1-score   support\n",
            "\n",
            "    Negative       0.79      0.04      0.08      4854\n",
            "     Neutral       0.57      0.13      0.21     29942\n",
            "    Positive       0.84      0.98      0.90    158490\n",
            "\n",
            "   micro avg       0.83      0.83      0.83    193286\n",
            "   macro avg       0.73      0.38      0.40    193286\n",
            "weighted avg       0.79      0.83      0.78    193286\n",
            "\n"
          ],
          "name": "stdout"
        }
      ]
    },
    {
      "metadata": {
        "id": "k3EhslX6u-lj",
        "colab_type": "text"
      },
      "cell_type": "markdown",
      "source": [
        "# **Analysis of data for NB classifier**"
      ]
    },
    {
      "metadata": {
        "id": "OQL6-00oJqyr",
        "colab_type": "code",
        "colab": {
          "base_uri": "https://localhost:8080/",
          "height": 190
        },
        "outputId": "4e39c890-3ecf-4143-ee48-a55d0b130104"
      },
      "cell_type": "code",
      "source": [
        "# Positive Misclassified review\n",
        "pr = df['text'][1053174]\n",
        "print(pr)\n",
        "print(\"Actual Rating: \",df['stars'][1053174])\n",
        "pr_t = cv_transformer.transform([pr])\n",
        "print(\"Predicted Rating:\", nb.predict(pr_t)[0])"
      ],
      "execution_count": 94,
      "outputs": [
        {
          "output_type": "stream",
          "text": [
            "we made reservations to chart house on my birthday since we were going to be downtown for the st. patrick's day festivities and i had a pretty decent group with me. having dinner in front of the fish tank was awesome but made me wonder if the fish i was eating was the lucky one to get plucked outta the tank. \n",
            "\n",
            "i was surprised that they had made a personalized menu for my table. apparently they ask if anyone is celebrating a special occasion when you call to make reservations. i thought this was pretty cool. plus they let me keep the personalized menus. a very nice gesture.\n",
            "\n",
            "ok on to the food, the sea bass with saffron risotto was tasty. i think i enjoyed that better than my dish. i had the stuffed flounder, which was good but the flounder had no flavor and a little dry until you mixed it with the crab. the sea bass though, mmm. i also heard that the jumbo stuffed shrimp, surf & turf, and fish & chips were very enjoyable. \n",
            "\n",
            "overall the experience was awesome especially since it was in downtown. our waiter eddie was funny, very helpful and willing to split our checks. towards the end of our dining experience, they brought out their hot chocolate lava cake and eddie initiated the happy birthday song. kudos to this guy! i heart downtown vegas and find it appealing when you find these hidden gems in that area.\n",
            "Actual Rating:  4\n",
            "Predicted Rating: Positive\n"
          ],
          "name": "stdout"
        }
      ]
    },
    {
      "metadata": {
        "id": "MZqp6jAqKv2r",
        "colab_type": "code",
        "colab": {
          "base_uri": "https://localhost:8080/",
          "height": 88
        },
        "outputId": "202a6963-e8e9-4fa7-f503-153a0ff2748d"
      },
      "cell_type": "code",
      "source": [
        "# Neutral Classified Review \n",
        "pr = df['text'][693097]\n",
        "print(pr)\n",
        "print(\"Actual Rating: \",df['stars'][693097])\n",
        "pr_t = cv_transformer.transform([pr])\n",
        "print(\"Predicted Rating:\", nb.predict(pr_t)[0])"
      ],
      "execution_count": 99,
      "outputs": [
        {
          "output_type": "stream",
          "text": [
            "food was delicious- guac, the corn and the tacos... delicious! the service was nothing over the moon. someone takes your order, 20 other people drop it off and the server no where to be seen. we wanted to get desert and another drink, but the waiter said that they had another rsvp for our 2 seater table in 15mins, even though there were 6 available tables surrounding us upstairs.\n",
            "Actual Rating:  3\n",
            "Predicted Rating: Neutral\n"
          ],
          "name": "stdout"
        }
      ]
    },
    {
      "metadata": {
        "id": "dX8igOHVKB6r",
        "colab_type": "code",
        "colab": {
          "base_uri": "https://localhost:8080/",
          "height": 68
        },
        "outputId": "2a7628bc-9c15-4248-b93f-ecf53b604d31"
      },
      "cell_type": "code",
      "source": [
        "# Positive Misclassified Review \n",
        "pr = df['text'][1732208]\n",
        "print(pr)\n",
        "print(\"Actual Rating: \",df['stars'][1732208])\n",
        "pr_t = cv_transformer.transform([pr])\n",
        "print(\"Predicted Rating:\",nb.predict(pr_t)[0])"
      ],
      "execution_count": 101,
      "outputs": [
        {
          "output_type": "stream",
          "text": [
            "no seriously. this is not sushi, this is some sort of montreal fusion sushi-lookalike.\n",
            "Actual Rating:  1\n",
            "Predicted Rating: Positive\n"
          ],
          "name": "stdout"
        }
      ]
    },
    {
      "metadata": {
        "id": "C2NtmFCErJoc",
        "colab_type": "code",
        "colab": {
          "base_uri": "https://localhost:8080/",
          "height": 88
        },
        "outputId": "faa51625-bc3f-44a2-ba64-a96c7c015dd1"
      },
      "cell_type": "code",
      "source": [
        "pr = df['text'][2462289]\n",
        "print(pr)\n",
        "print(\"Actual Rating: \",df['stars'][2462289])\n",
        "pr_t = cv_transformer.transform([pr])\n",
        "print(\"Predicted Rating:\",nb.predict(pr_t)[0])"
      ],
      "execution_count": 102,
      "outputs": [
        {
          "output_type": "stream",
          "text": [
            "okay service. waited long for one worker to serve 3 tables. didn't get my complimentary bread and everyone around who is local got it. food was room temperature, not hot. if you are american and don't speak french, don't go here.\n",
            "Actual Rating:  1\n",
            "Predicted Rating: Positive\n"
          ],
          "name": "stdout"
        }
      ]
    },
    {
      "metadata": {
        "id": "aAJBn8buLpy8",
        "colab_type": "text"
      },
      "cell_type": "markdown",
      "source": [
        "# **Random Forest Classifier - Analysis of result**"
      ]
    },
    {
      "metadata": {
        "id": "ReKVJMb7Lo7U",
        "colab_type": "code",
        "colab": {
          "base_uri": "https://localhost:8080/",
          "height": 190
        },
        "outputId": "0f56abbd-63c4-4b7c-87a1-b6f74123b8e2"
      },
      "cell_type": "code",
      "source": [
        "# Positive Classified review\n",
        "pr = df['text'][1053174]\n",
        "print(pr)\n",
        "print(\"Actual Rating: \",df['stars'][1053174])\n",
        "pr_t = cv_transformer.transform([pr])\n",
        "print(\"Predicted Rating:\", rmfr.predict(pr_t)[0])"
      ],
      "execution_count": 104,
      "outputs": [
        {
          "output_type": "stream",
          "text": [
            "we made reservations to chart house on my birthday since we were going to be downtown for the st. patrick's day festivities and i had a pretty decent group with me. having dinner in front of the fish tank was awesome but made me wonder if the fish i was eating was the lucky one to get plucked outta the tank. \n",
            "\n",
            "i was surprised that they had made a personalized menu for my table. apparently they ask if anyone is celebrating a special occasion when you call to make reservations. i thought this was pretty cool. plus they let me keep the personalized menus. a very nice gesture.\n",
            "\n",
            "ok on to the food, the sea bass with saffron risotto was tasty. i think i enjoyed that better than my dish. i had the stuffed flounder, which was good but the flounder had no flavor and a little dry until you mixed it with the crab. the sea bass though, mmm. i also heard that the jumbo stuffed shrimp, surf & turf, and fish & chips were very enjoyable. \n",
            "\n",
            "overall the experience was awesome especially since it was in downtown. our waiter eddie was funny, very helpful and willing to split our checks. towards the end of our dining experience, they brought out their hot chocolate lava cake and eddie initiated the happy birthday song. kudos to this guy! i heart downtown vegas and find it appealing when you find these hidden gems in that area.\n",
            "Actual Rating:  4\n",
            "Predicted Rating: Positive\n"
          ],
          "name": "stdout"
        }
      ]
    },
    {
      "metadata": {
        "id": "muLivoQTrjwr",
        "colab_type": "code",
        "colab": {
          "base_uri": "https://localhost:8080/",
          "height": 88
        },
        "outputId": "602132e0-7ea3-49ec-ba2b-f99aa3262150"
      },
      "cell_type": "code",
      "source": [
        "# Neutral Classified Review \n",
        "pr = df['text'][693097]\n",
        "print(pr)\n",
        "print(\"Actual Rating: \",df['stars'][693097])\n",
        "pr_t = cv_transformer.transform([pr])\n",
        "print(\"Predicted Rating:\", rmfr.predict(pr_t)[0])"
      ],
      "execution_count": 105,
      "outputs": [
        {
          "output_type": "stream",
          "text": [
            "food was delicious- guac, the corn and the tacos... delicious! the service was nothing over the moon. someone takes your order, 20 other people drop it off and the server no where to be seen. we wanted to get desert and another drink, but the waiter said that they had another rsvp for our 2 seater table in 15mins, even though there were 6 available tables surrounding us upstairs.\n",
            "Actual Rating:  3\n",
            "Predicted Rating: Neutral\n"
          ],
          "name": "stdout"
        }
      ]
    },
    {
      "metadata": {
        "id": "TIV8gzDCvJme",
        "colab_type": "text"
      },
      "cell_type": "markdown",
      "source": [
        "**Conclusion:**\n",
        "The data set being huge I could only process 3Lakh reviews succesfully.\n",
        "\n",
        "**Used 4 classifier algorithms namely :**\n",
        "\n",
        "Naive Bayes\n",
        "Random Forest\n",
        "Knn\n",
        "SVM\n",
        "\n",
        "For data size more than 50000 and data less than 300000, knn and SVM could fit the data. When data increased to above 3Lakh it failed to fit the data.\n",
        "\n",
        "Naive Bayes and Random Forest worked prettly good in all scenarios, Random forest being the best out of all algorithms.\n",
        "\n"
      ]
    }
  ]
}
